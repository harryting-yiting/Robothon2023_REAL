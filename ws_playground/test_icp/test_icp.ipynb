{
 "cells": [
  {
   "cell_type": "code",
   "execution_count": 1,
   "id": "cccf1e18",
   "metadata": {},
   "outputs": [],
   "source": [
    "import pickle\n",
    "import numpy as np\n",
    "import matplotlib.pyplot as plt\n",
    "import cv2\n",
    "from simpleicp import PointCloud, SimpleICP"
   ]
  },
  {
   "cell_type": "code",
   "execution_count": 2,
   "id": "c6900863",
   "metadata": {},
   "outputs": [],
   "source": [
    "with open('masks.pkl', 'rb') as f:\n",
    "    data = pickle.load(f)"
   ]
  },
  {
   "cell_type": "code",
   "execution_count": 3,
   "id": "d2d20b1e",
   "metadata": {},
   "outputs": [
    {
     "data": {
      "text/plain": [
       "[{'segmentation': array([[False, False, False, ..., False, False, False],\n",
       "         [False, False, False, ..., False, False, False],\n",
       "         [False, False, False, ..., False, False, False],\n",
       "         ...,\n",
       "         [False, False, False, ..., False, False, False],\n",
       "         [False, False, False, ..., False, False, False],\n",
       "         [False, False, False, ..., False, False, False]]),\n",
       "  'area': 162,\n",
       "  'bbox': [403, 338, 28, 13],\n",
       "  'predicted_iou': 0.9061435461044312,\n",
       "  'point_coords': [[411.0, 351.0]],\n",
       "  'stability_score': 0.9580838084220886,\n",
       "  'crop_box': [378.0, 270.0, 198.0, 162.0]},\n",
       " {'segmentation': array([[False, False, False, ..., False, False, False],\n",
       "         [False, False, False, ..., False, False, False],\n",
       "         [False, False, False, ..., False, False, False],\n",
       "         ...,\n",
       "         [False, False, False, ..., False, False, False],\n",
       "         [False, False, False, ..., False, False, False],\n",
       "         [False, False, False, ..., False, False, False]]),\n",
       "  'area': 1488,\n",
       "  'bbox': [0, 377, 75, 41],\n",
       "  'predicted_iou': 0.9003849029541016,\n",
       "  'point_coords': [[33.166666666666664, 405.0]],\n",
       "  'stability_score': 0.9026888608932495,\n",
       "  'crop_box': [0.0, 270.0, 199.0, 162.0]},\n",
       " {'segmentation': array([[False, False, False, ..., False, False, False],\n",
       "         [False, False, False, ..., False, False, False],\n",
       "         [False, False, False, ..., False, False, False],\n",
       "         ...,\n",
       "         [False, False, False, ..., False, False, False],\n",
       "         [False, False, False, ..., False, False, False],\n",
       "         [False, False, False, ..., False, False, False]]),\n",
       "  'area': 393,\n",
       "  'bbox': [333, 350, 55, 10],\n",
       "  'predicted_iou': 0.8995792865753174,\n",
       "  'point_coords': [[351.5, 351.0]],\n",
       "  'stability_score': 0.9648241400718689,\n",
       "  'crop_box': [252.0, 270.0, 199.0, 162.0]},\n",
       " {'segmentation': array([[False, False, False, ..., False, False, False],\n",
       "         [False, False, False, ..., False, False, False],\n",
       "         [False, False, False, ..., False, False, False],\n",
       "         ...,\n",
       "         [False, False, False, ..., False, False, False],\n",
       "         [False, False, False, ..., False, False, False],\n",
       "         [False, False, False, ..., False, False, False]]),\n",
       "  'area': 1234,\n",
       "  'bbox': [507, 203, 44, 38],\n",
       "  'predicted_iou': 0.9594660997390747,\n",
       "  'point_coords': [[543.0, 207.16666666666666]],\n",
       "  'stability_score': 0.97678142786026,\n",
       "  'crop_box': [378.0, 180.0, 198.0, 163.0]},\n",
       " {'segmentation': array([[ True,  True,  True, ..., False, False, False],\n",
       "         [ True,  True,  True, ..., False, False, False],\n",
       "         [ True,  True,  True, ..., False, False, False],\n",
       "         ...,\n",
       "         [False, False, False, ..., False, False, False],\n",
       "         [False, False, False, ..., False, False, False],\n",
       "         [False, False, False, ..., False, False, False]]),\n",
       "  'area': 4010,\n",
       "  'bbox': [0, 0, 90, 58],\n",
       "  'predicted_iou': 0.9960914254188538,\n",
       "  'point_coords': [[33.166666666666664, 27.166666666666664]],\n",
       "  'stability_score': 0.9848371744155884,\n",
       "  'crop_box': [0.0, 0.0, 199.0, 163.0]},\n",
       " {'segmentation': array([[False, False, False, ..., False, False, False],\n",
       "         [False, False, False, ..., False, False, False],\n",
       "         [False, False, False, ..., False, False, False],\n",
       "         ...,\n",
       "         [False, False, False, ..., False, False, False],\n",
       "         [False, False, False, ..., False, False, False],\n",
       "         [False, False, False, ..., False, False, False]]),\n",
       "  'area': 401,\n",
       "  'bbox': [209, 204, 21, 21],\n",
       "  'predicted_iou': 0.9964171648025513,\n",
       "  'point_coords': [[225.5, 207.16666666666666]],\n",
       "  'stability_score': 1.0,\n",
       "  'crop_box': [126.0, 180.0, 199.0, 163.0]},\n",
       " {'segmentation': array([[False, False, False, ..., False, False, False],\n",
       "         [False, False, False, ..., False, False, False],\n",
       "         [False, False, False, ..., False, False, False],\n",
       "         ...,\n",
       "         [False, False, False, ..., False, False, False],\n",
       "         [False, False, False, ..., False, False, False],\n",
       "         [False, False, False, ..., False, False, False]]),\n",
       "  'area': 953,\n",
       "  'bbox': [208, 244, 18, 59],\n",
       "  'predicted_iou': 0.9591643214225769,\n",
       "  'point_coords': [[225.5, 261.5]],\n",
       "  'stability_score': 0.9885057210922241,\n",
       "  'crop_box': [126.0, 180.0, 199.0, 163.0]},\n",
       " {'segmentation': array([[False, False, False, ..., False, False, False],\n",
       "         [False, False, False, ..., False, False, False],\n",
       "         [False, False, False, ..., False, False, False],\n",
       "         ...,\n",
       "         [False, False, False, ..., False, False, False],\n",
       "         [False, False, False, ..., False, False, False],\n",
       "         [False, False, False, ..., False, False, False]]),\n",
       "  'area': 377,\n",
       "  'bbox': [339, 125, 23, 16],\n",
       "  'predicted_iou': 0.9804379940032959,\n",
       "  'point_coords': [[351.5, 135.83333333333334]],\n",
       "  'stability_score': 0.9868766665458679,\n",
       "  'crop_box': [252.0, 0.0, 199.0, 163.0]},\n",
       " {'segmentation': array([[False, False, False, ..., False, False, False],\n",
       "         [False, False, False, ..., False, False, False],\n",
       "         [False, False, False, ..., False, False, False],\n",
       "         ...,\n",
       "         [False, False, False, ..., False, False, False],\n",
       "         [False, False, False, ..., False, False, False],\n",
       "         [False, False, False, ..., False, False, False]]),\n",
       "  'area': 103,\n",
       "  'bbox': [303, 164, 11, 10],\n",
       "  'predicted_iou': 0.9798344969749451,\n",
       "  'point_coords': [[305.25, 167.08333333333334]],\n",
       "  'stability_score': 0.9714285731315613,\n",
       "  'crop_box': [215.0, 143.0, 361.0, 289.0]},\n",
       " {'segmentation': array([[False, False, False, ..., False, False, False],\n",
       "         [False, False, False, ..., False, False, False],\n",
       "         [False, False, False, ..., False, False, False],\n",
       "         ...,\n",
       "         [False, False, False, ..., False, False, False],\n",
       "         [False, False, False, ..., False, False, False],\n",
       "         [False, False, False, ..., False, False, False]]),\n",
       "  'area': 1621,\n",
       "  'bbox': [481, 242, 94, 39],\n",
       "  'predicted_iou': 0.8554577827453613,\n",
       "  'point_coords': [[545.9166666666666, 263.41666666666663]],\n",
       "  'stability_score': 0.9061946868896484,\n",
       "  'crop_box': [215.0, 143.0, 361.0, 289.0]},\n",
       " {'segmentation': array([[False, False, False, ..., False, False, False],\n",
       "         [False, False, False, ..., False, False, False],\n",
       "         [False, False, False, ..., False, False, False],\n",
       "         ...,\n",
       "         [False, False, False, ..., False, False, False],\n",
       "         [False, False, False, ..., False, False, False],\n",
       "         [False, False, False, ..., False, False, False]]),\n",
       "  'area': 498,\n",
       "  'bbox': [403, 301, 24, 39],\n",
       "  'predicted_iou': 0.8133628368377686,\n",
       "  'point_coords': [[425.58333333333337, 311.58333333333337]],\n",
       "  'stability_score': 0.9370078444480896,\n",
       "  'crop_box': [215.0, 143.0, 361.0, 289.0]},\n",
       " {'segmentation': array([[False, False, False, ..., False, False, False],\n",
       "         [False, False, False, ..., False, False, False],\n",
       "         [False, False, False, ..., False, False, False],\n",
       "         ...,\n",
       "         [False, False, False, ..., False, False, False],\n",
       "         [False, False, False, ..., False, False, False],\n",
       "         [False, False, False, ..., False, False, False]]),\n",
       "  'area': 234,\n",
       "  'bbox': [209, 248, 12, 19],\n",
       "  'predicted_iou': 0.9777836799621582,\n",
       "  'point_coords': [[211.16666666666669, 263.41666666666663]],\n",
       "  'stability_score': 0.9957447052001953,\n",
       "  'crop_box': [0.0, 143.0, 362.0, 289.0]},\n",
       " {'segmentation': array([[False, False, False, ..., False, False, False],\n",
       "         [False, False, False, ..., False, False, False],\n",
       "         [False, False, False, ..., False, False, False],\n",
       "         ...,\n",
       "         [False, False, False, ..., False, False, False],\n",
       "         [False, False, False, ..., False, False, False],\n",
       "         [False, False, False, ..., False, False, False]]),\n",
       "  'area': 341,\n",
       "  'bbox': [474, 104, 24, 25],\n",
       "  'predicted_iou': 0.9748295545578003,\n",
       "  'point_coords': [[485.75, 120.83333333333333]],\n",
       "  'stability_score': 0.9854651093482971,\n",
       "  'crop_box': [215.0, 0.0, 361.0, 290.0]},\n",
       " {'segmentation': array([[False, False, False, ..., False, False, False],\n",
       "         [False, False, False, ..., False, False, False],\n",
       "         [False, False, False, ..., False, False, False],\n",
       "         ...,\n",
       "         [False, False, False, ..., False, False, False],\n",
       "         [False, False, False, ..., False, False, False],\n",
       "         [False, False, False, ..., False, False, False]]),\n",
       "  'area': 5194,\n",
       "  'bbox': [0, 105, 86, 124],\n",
       "  'predicted_iou': 0.9157994389533997,\n",
       "  'point_coords': [[30.166666666666664, 217.5]],\n",
       "  'stability_score': 0.9380934834480286,\n",
       "  'crop_box': [0.0, 0.0, 362.0, 290.0]},\n",
       " {'segmentation': array([[False, False, False, ..., False, False, False],\n",
       "         [False, False, False, ..., False, False, False],\n",
       "         [False, False, False, ..., False, False, False],\n",
       "         ...,\n",
       "         [False, False, False, ..., False, False, False],\n",
       "         [False, False, False, ..., False, False, False],\n",
       "         [False, False, False, ..., False, False, False]]),\n",
       "  'area': 512,\n",
       "  'bbox': [342, 223, 25, 24],\n",
       "  'predicted_iou': 1.0067716836929321,\n",
       "  'point_coords': [[360.0, 233.99999999999997]],\n",
       "  'stability_score': 0.9922027587890625,\n",
       "  'crop_box': [0.0, 0.0, 576.0, 432.0]},\n",
       " {'segmentation': array([[False, False, False, ..., False, False, False],\n",
       "         [False, False, False, ..., False, False, False],\n",
       "         [False, False, False, ..., False, False, False],\n",
       "         ...,\n",
       "         [False, False, False, ..., False, False, False],\n",
       "         [False, False, False, ..., False, False, False],\n",
       "         [False, False, False, ..., False, False, False]]),\n",
       "  'area': 896,\n",
       "  'bbox': [112, 141, 22, 39],\n",
       "  'predicted_iou': 0.9934390783309937,\n",
       "  'point_coords': [[120.0, 162.00000000000003]],\n",
       "  'stability_score': 0.9900221824645996,\n",
       "  'crop_box': [0.0, 0.0, 576.0, 432.0]},\n",
       " {'segmentation': array([[False, False, False, ..., False, False, False],\n",
       "         [False, False, False, ..., False, False, False],\n",
       "         [False, False, False, ..., False, False, False],\n",
       "         ...,\n",
       "         [ True,  True,  True, ..., False, False, False],\n",
       "         [ True,  True,  True, ..., False, False, False],\n",
       "         [ True,  True,  True, ..., False, False, False]]),\n",
       "  'area': 1723,\n",
       "  'bbox': [0, 407, 95, 24],\n",
       "  'predicted_iou': 0.9829492568969727,\n",
       "  'point_coords': [[24.0, 414.0]],\n",
       "  'stability_score': 0.9855741262435913,\n",
       "  'crop_box': [0.0, 0.0, 576.0, 432.0]},\n",
       " {'segmentation': array([[False, False, False, ..., False, False, False],\n",
       "         [False, False, False, ..., False, False, False],\n",
       "         [False, False, False, ..., False, False, False],\n",
       "         ...,\n",
       "         [False, False, False, ..., False, False, False],\n",
       "         [False, False, False, ..., False, False, False],\n",
       "         [False, False, False, ..., False, False, False]]),\n",
       "  'area': 832,\n",
       "  'bbox': [365, 0, 55, 22],\n",
       "  'predicted_iou': 0.9811840057373047,\n",
       "  'point_coords': [[408.0, 18.0]],\n",
       "  'stability_score': 0.9928057789802551,\n",
       "  'crop_box': [0.0, 0.0, 576.0, 432.0]},\n",
       " {'segmentation': array([[False, False, False, ..., False, False, False],\n",
       "         [False, False, False, ..., False, False, False],\n",
       "         [False, False, False, ..., False, False, False],\n",
       "         ...,\n",
       "         [False, False, False, ..., False, False, False],\n",
       "         [False, False, False, ..., False, False, False],\n",
       "         [False, False, False, ..., False, False, False]]),\n",
       "  'area': 286,\n",
       "  'bbox': [392, 124, 18, 16],\n",
       "  'predicted_iou': 0.9804168939590454,\n",
       "  'point_coords': [[408.0, 126.00000000000001]],\n",
       "  'stability_score': 0.9793103337287903,\n",
       "  'crop_box': [0.0, 0.0, 576.0, 432.0]},\n",
       " {'segmentation': array([[False, False, False, ..., False, False, False],\n",
       "         [False, False, False, ..., False, False, False],\n",
       "         [False, False, False, ..., False, False, False],\n",
       "         ...,\n",
       "         [False, False, False, ..., False, False, False],\n",
       "         [False, False, False, ..., False, False, False],\n",
       "         [False, False, False, ..., False, False, False]]),\n",
       "  'area': 1196,\n",
       "  'bbox': [118, 220, 27, 48],\n",
       "  'predicted_iou': 0.9646596312522888,\n",
       "  'point_coords': [[120.0, 233.99999999999997]],\n",
       "  'stability_score': 0.9842454195022583,\n",
       "  'crop_box': [0.0, 0.0, 576.0, 432.0]},\n",
       " {'segmentation': array([[False, False, False, ..., False, False, False],\n",
       "         [False, False, False, ..., False, False, False],\n",
       "         [False, False, False, ..., False, False, False],\n",
       "         ...,\n",
       "         [False, False, False, ..., False, False, False],\n",
       "         [False, False, False, ..., False, False, False],\n",
       "         [False, False, False, ..., False, False, False]]),\n",
       "  'area': 3359,\n",
       "  'bbox': [104, 108, 44, 79],\n",
       "  'predicted_iou': 0.9639772176742554,\n",
       "  'point_coords': [[120.0, 162.00000000000003]],\n",
       "  'stability_score': 0.9572301506996155,\n",
       "  'crop_box': [0.0, 0.0, 576.0, 432.0]},\n",
       " {'segmentation': array([[False, False, False, ..., False, False, False],\n",
       "         [False, False, False, ..., False, False, False],\n",
       "         [False, False, False, ..., False, False, False],\n",
       "         ...,\n",
       "         [False, False, False, ..., False, False, False],\n",
       "         [False, False, False, ..., False, False, False],\n",
       "         [False, False, False, ..., False, False, False]]),\n",
       "  'area': 541,\n",
       "  'bbox': [257, 117, 14, 40],\n",
       "  'predicted_iou': 0.9601002931594849,\n",
       "  'point_coords': [[264.00000000000006, 126.00000000000001]],\n",
       "  'stability_score': 0.9890109896659851,\n",
       "  'crop_box': [0.0, 0.0, 576.0, 432.0]},\n",
       " {'segmentation': array([[False, False, False, ..., False, False, False],\n",
       "         [False, False, False, ..., False, False, False],\n",
       "         [False, False, False, ..., False, False, False],\n",
       "         ...,\n",
       "         [False, False, False, ..., False, False, False],\n",
       "         [False, False, False, ..., False, False, False],\n",
       "         [False, False, False, ..., False, False, False]]),\n",
       "  'area': 180,\n",
       "  'bbox': [432, 120, 25, 8],\n",
       "  'predicted_iou': 0.9308105707168579,\n",
       "  'point_coords': [[456.00000000000006, 126.00000000000001]],\n",
       "  'stability_score': 0.9728260636329651,\n",
       "  'crop_box': [0.0, 0.0, 576.0, 432.0]},\n",
       " {'segmentation': array([[False, False, False, ..., False, False, False],\n",
       "         [False, False, False, ..., False, False, False],\n",
       "         [False, False, False, ..., False, False, False],\n",
       "         ...,\n",
       "         [False, False, False, ..., False, False, False],\n",
       "         [False, False, False, ..., False, False, False],\n",
       "         [False, False, False, ..., False, False, False]]),\n",
       "  'area': 1714,\n",
       "  'bbox': [333, 0, 99, 29],\n",
       "  'predicted_iou': 0.9201636910438538,\n",
       "  'point_coords': [[408.0, 18.0]],\n",
       "  'stability_score': 0.9837962985038757,\n",
       "  'crop_box': [0.0, 0.0, 576.0, 432.0]},\n",
       " {'segmentation': array([[False, False, False, ..., False, False, False],\n",
       "         [False, False, False, ..., False, False, False],\n",
       "         [False, False, False, ..., False, False, False],\n",
       "         ...,\n",
       "         [False, False, False, ..., False, False, False],\n",
       "         [False, False, False, ..., False, False, False],\n",
       "         [False, False, False, ..., False, False, False]]),\n",
       "  'area': 317,\n",
       "  'bbox': [111, 119, 22, 14],\n",
       "  'predicted_iou': 0.9031190872192383,\n",
       "  'point_coords': [[120.0, 126.00000000000001]],\n",
       "  'stability_score': 0.9779874086380005,\n",
       "  'crop_box': [0.0, 0.0, 576.0, 432.0]},\n",
       " {'segmentation': array([[False, False, False, ..., False, False, False],\n",
       "         [False, False, False, ..., False, False, False],\n",
       "         [False, False, False, ..., False, False, False],\n",
       "         ...,\n",
       "         [False, False, False, ..., False, False, False],\n",
       "         [False, False, False, ..., False, False, False],\n",
       "         [False, False, False, ..., False, False, False]]),\n",
       "  'area': 413,\n",
       "  'bbox': [539, 157, 36, 28],\n",
       "  'predicted_iou': 0.9027552604675293,\n",
       "  'point_coords': [[552.0, 162.00000000000003]],\n",
       "  'stability_score': 0.9618138670921326,\n",
       "  'crop_box': [0.0, 0.0, 576.0, 432.0]},\n",
       " {'segmentation': array([[False, False, False, ..., False, False, False],\n",
       "         [False, False, False, ..., False, False, False],\n",
       "         [False, False, False, ..., False, False, False],\n",
       "         ...,\n",
       "         [False, False, False, ..., False, False, False],\n",
       "         [False, False, False, ..., False, False, False],\n",
       "         [False, False, False, ..., False, False, False]]),\n",
       "  'area': 147,\n",
       "  'bbox': [429, 158, 27, 5],\n",
       "  'predicted_iou': 0.8957428932189941,\n",
       "  'point_coords': [[456.00000000000006, 162.00000000000003]],\n",
       "  'stability_score': 0.9798657894134521,\n",
       "  'crop_box': [0.0, 0.0, 576.0, 432.0]},\n",
       " {'segmentation': array([[False, False, False, ..., False, False, False],\n",
       "         [False, False, False, ..., False, False, False],\n",
       "         [False, False, False, ..., False, False, False],\n",
       "         ...,\n",
       "         [False, False, False, ..., False, False, False],\n",
       "         [False, False, False, ..., False, False, False],\n",
       "         [False, False, False, ..., False, False, False]]),\n",
       "  'area': 295,\n",
       "  'bbox': [122, 224, 18, 18],\n",
       "  'predicted_iou': 0.8934378623962402,\n",
       "  'point_coords': [[120.0, 233.99999999999997]],\n",
       "  'stability_score': 0.9700000286102295,\n",
       "  'crop_box': [0.0, 0.0, 576.0, 432.0]},\n",
       " {'segmentation': array([[False, False, False, ..., False, False, False],\n",
       "         [False, False, False, ..., False, False, False],\n",
       "         [False, False, False, ..., False, False, False],\n",
       "         ...,\n",
       "         [False, False, False, ..., False, False, False],\n",
       "         [False, False, False, ..., False, False, False],\n",
       "         [False, False, False, ..., False, False, False]]),\n",
       "  'area': 420,\n",
       "  'bbox': [310, 126, 27, 15],\n",
       "  'predicted_iou': 0.8897963762283325,\n",
       "  'point_coords': [[312.0, 126.00000000000001]],\n",
       "  'stability_score': 0.9537037014961243,\n",
       "  'crop_box': [0.0, 0.0, 576.0, 432.0]},\n",
       " {'segmentation': array([[ True,  True,  True, ..., False, False, False],\n",
       "         [ True,  True,  True, ..., False, False, False],\n",
       "         [ True,  True,  True, ..., False, False, False],\n",
       "         ...,\n",
       "         [False, False, False, ..., False, False, False],\n",
       "         [False, False, False, ..., False, False, False],\n",
       "         [False, False, False, ..., False, False, False]]),\n",
       "  'area': 5714,\n",
       "  'bbox': [0, 0, 90, 163],\n",
       "  'predicted_iou': 0.8713419437408447,\n",
       "  'point_coords': [[24.0, 54.0]],\n",
       "  'stability_score': 0.9455008506774902,\n",
       "  'crop_box': [0.0, 0.0, 576.0, 432.0]},\n",
       " {'segmentation': array([[False, False, False, ..., False, False, False],\n",
       "         [False, False, False, ..., False, False, False],\n",
       "         [False, False, False, ..., False, False, False],\n",
       "         ...,\n",
       "         [False, False, False, ..., False, False, False],\n",
       "         [False, False, False, ..., False, False, False],\n",
       "         [False, False, False, ..., False, False, False]]),\n",
       "  'area': 345,\n",
       "  'bbox': [529, 266, 46, 15],\n",
       "  'predicted_iou': 0.8066076040267944,\n",
       "  'point_coords': [[552.0, 270.0]],\n",
       "  'stability_score': 0.9303621053695679,\n",
       "  'crop_box': [0.0, 0.0, 576.0, 432.0]},\n",
       " {'segmentation': array([[False, False, False, ..., False, False, False],\n",
       "         [False, False, False, ..., False, False, False],\n",
       "         [False, False, False, ..., False, False, False],\n",
       "         ...,\n",
       "         [False, False, False, ..., False, False, False],\n",
       "         [False, False, False, ..., False, False, False],\n",
       "         [False, False, False, ..., False, False, False]]),\n",
       "  'area': 3416,\n",
       "  'bbox': [0, 376, 167, 55],\n",
       "  'predicted_iou': 0.9728997945785522,\n",
       "  'point_coords': [[33.166666666666664, 405.0]],\n",
       "  'stability_score': 0.9351305961608887,\n",
       "  'crop_box': [0.0, 270.0, 199.0, 162.0]},\n",
       " {'segmentation': array([[False, False, False, ..., False, False, False],\n",
       "         [False, False, False, ..., False, False, False],\n",
       "         [False, False, False, ..., False, False, False],\n",
       "         ...,\n",
       "         [False, False, False, ..., False, False, False],\n",
       "         [False, False, False, ..., False, False, False],\n",
       "         [False, False, False, ..., False, False, False]]),\n",
       "  'area': 49,\n",
       "  'bbox': [409, 123, 3, 16],\n",
       "  'predicted_iou': 0.7879993915557861,\n",
       "  'point_coords': [[411.0, 135.83333333333334]],\n",
       "  'stability_score': 0.9599999785423279,\n",
       "  'crop_box': [378.0, 0.0, 198.0, 163.0]},\n",
       " {'segmentation': array([[False, False, False, ..., False, False, False],\n",
       "         [False, False, False, ..., False, False, False],\n",
       "         [False, False, False, ..., False, False, False],\n",
       "         ...,\n",
       "         [False, False, False, ..., False, False, False],\n",
       "         [False, False, False, ..., False, False, False],\n",
       "         [False, False, False, ..., False, False, False]]),\n",
       "  'area': 1814,\n",
       "  'bbox': [293, 124, 116, 18],\n",
       "  'predicted_iou': 0.7145115733146667,\n",
       "  'point_coords': [[351.5, 135.83333333333334]],\n",
       "  'stability_score': 0.9154550433158875,\n",
       "  'crop_box': [252.0, 0.0, 199.0, 163.0]},\n",
       " {'segmentation': array([[False, False, False, ..., False, False, False],\n",
       "         [False, False, False, ..., False, False, False],\n",
       "         [False, False, False, ..., False, False, False],\n",
       "         ...,\n",
       "         [False, False, False, ..., False, False, False],\n",
       "         [False, False, False, ..., False, False, False],\n",
       "         [False, False, False, ..., False, False, False]]),\n",
       "  'area': 1779,\n",
       "  'bbox': [125, 280, 72, 41],\n",
       "  'predicted_iou': 0.8144897222518921,\n",
       "  'point_coords': [[150.83333333333331, 311.58333333333337]],\n",
       "  'stability_score': 0.9159142374992371,\n",
       "  'crop_box': [0.0, 143.0, 362.0, 289.0]},\n",
       " {'segmentation': array([[False, False, False, ..., False, False, False],\n",
       "         [False, False, False, ..., False, False, False],\n",
       "         [False, False, False, ..., False, False, False],\n",
       "         ...,\n",
       "         [False, False, False, ..., False, False, False],\n",
       "         [False, False, False, ..., False, False, False],\n",
       "         [False, False, False, ..., False, False, False]]),\n",
       "  'area': 97,\n",
       "  'bbox': [327, 285, 8, 15],\n",
       "  'predicted_iou': 0.8067269325256348,\n",
       "  'point_coords': [[331.8333333333333, 311.58333333333337]],\n",
       "  'stability_score': 0.908450722694397,\n",
       "  'crop_box': [0.0, 143.0, 362.0, 289.0]},\n",
       " {'segmentation': array([[False, False, False, ..., False, False, False],\n",
       "         [False, False, False, ..., False, False, False],\n",
       "         [False, False, False, ..., False, False, False],\n",
       "         ...,\n",
       "         [False, False, False, ..., False, False, False],\n",
       "         [False, False, False, ..., False, False, False],\n",
       "         [False, False, False, ..., False, False, False]]),\n",
       "  'area': 16385,\n",
       "  'bbox': [286, 140, 135, 127],\n",
       "  'predicted_iou': 0.9878987073898315,\n",
       "  'point_coords': [[305.25, 265.8333333333333]],\n",
       "  'stability_score': 0.9680433869361877,\n",
       "  'crop_box': [215.0, 0.0, 361.0, 290.0]},\n",
       " {'segmentation': array([[False, False, False, ..., False, False, False],\n",
       "         [False, False, False, ..., False, False, False],\n",
       "         [False, False, False, ..., False, False, False],\n",
       "         ...,\n",
       "         [False, False, False, ..., False, False, False],\n",
       "         [False, False, False, ..., False, False, False],\n",
       "         [False, False, False, ..., False, False, False]]),\n",
       "  'area': 2937,\n",
       "  'bbox': [478, 5, 97, 94],\n",
       "  'predicted_iou': 0.9766438007354736,\n",
       "  'point_coords': [[545.9166666666666, 72.5]],\n",
       "  'stability_score': 0.9740740656852722,\n",
       "  'crop_box': [215.0, 0.0, 361.0, 290.0]},\n",
       " {'segmentation': array([[False, False, False, ..., False, False, False],\n",
       "         [False, False, False, ..., False, False, False],\n",
       "         [False, False, False, ..., False, False, False],\n",
       "         ...,\n",
       "         [False, False, False, ..., False, False, False],\n",
       "         [False, False, False, ..., False, False, False],\n",
       "         [False, False, False, ..., False, False, False]]),\n",
       "  'area': 2914,\n",
       "  'bbox': [419, 54, 46, 75],\n",
       "  'predicted_iou': 0.8474452495574951,\n",
       "  'point_coords': [[425.58333333333337, 120.83333333333333]],\n",
       "  'stability_score': 0.9025087356567383,\n",
       "  'crop_box': [215.0, 0.0, 361.0, 290.0]},\n",
       " {'segmentation': array([[False, False, False, ..., False, False, False],\n",
       "         [False, False, False, ..., False, False, False],\n",
       "         [False, False, False, ..., False, False, False],\n",
       "         ...,\n",
       "         [False, False, False, ..., False, False, False],\n",
       "         [False, False, False, ..., False, False, False],\n",
       "         [False, False, False, ..., False, False, False]]),\n",
       "  'area': 373,\n",
       "  'bbox': [257, 111, 33, 16],\n",
       "  'predicted_iou': 0.8642815351486206,\n",
       "  'point_coords': [[271.5, 120.83333333333333]],\n",
       "  'stability_score': 0.9711285829544067,\n",
       "  'crop_box': [0.0, 0.0, 362.0, 290.0]},\n",
       " {'segmentation': array([[False, False, False, ..., False, False, False],\n",
       "         [False, False, False, ..., False, False, False],\n",
       "         [False, False, False, ..., False, False, False],\n",
       "         ...,\n",
       "         [False, False, False, ..., False, False, False],\n",
       "         [False, False, False, ..., False, False, False],\n",
       "         [False, False, False, ..., False, False, False]]),\n",
       "  'area': 1465,\n",
       "  'bbox': [257, 111, 35, 47],\n",
       "  'predicted_iou': 0.8518688082695007,\n",
       "  'point_coords': [[271.5, 120.83333333333333]],\n",
       "  'stability_score': 0.9462365508079529,\n",
       "  'crop_box': [0.0, 0.0, 362.0, 290.0]},\n",
       " {'segmentation': array([[False, False, False, ..., False, False, False],\n",
       "         [False, False, False, ..., False, False, False],\n",
       "         [False, False, False, ...,  True,  True,  True],\n",
       "         ...,\n",
       "         [False, False, False, ...,  True,  True,  True],\n",
       "         [False, False, False, ..., False, False, False],\n",
       "         [False, False, False, ..., False, False, False]]),\n",
       "  'area': 116436,\n",
       "  'bbox': [0, 0, 575, 430],\n",
       "  'predicted_iou': 1.0033485889434814,\n",
       "  'point_coords': [[216.00000000000003, 378.00000000000006]],\n",
       "  'stability_score': 0.9340105056762695,\n",
       "  'crop_box': [0.0, 0.0, 576.0, 432.0]},\n",
       " {'segmentation': array([[False, False, False, ..., False, False, False],\n",
       "         [False, False, False, ..., False, False, False],\n",
       "         [False, False, False, ..., False, False, False],\n",
       "         ...,\n",
       "         [False, False, False, ..., False, False, False],\n",
       "         [False, False, False, ..., False, False, False],\n",
       "         [False, False, False, ..., False, False, False]]),\n",
       "  'area': 1904,\n",
       "  'bbox': [340, 276, 74, 43],\n",
       "  'predicted_iou': 0.917543888092041,\n",
       "  'point_coords': [[408.0, 306.0]],\n",
       "  'stability_score': 0.9631713628768921,\n",
       "  'crop_box': [0.0, 0.0, 576.0, 432.0]},\n",
       " {'segmentation': array([[False, False, False, ..., False, False, False],\n",
       "         [False, False, False, ..., False, False, False],\n",
       "         [False, False, False, ..., False, False, False],\n",
       "         ...,\n",
       "         [False, False, False, ..., False, False, False],\n",
       "         [False, False, False, ..., False, False, False],\n",
       "         [False, False, False, ..., False, False, False]]),\n",
       "  'area': 3805,\n",
       "  'bbox': [478, 5, 97, 180],\n",
       "  'predicted_iou': 0.9152841567993164,\n",
       "  'point_coords': [[504.00000000000006, 18.0]],\n",
       "  'stability_score': 0.9073292016983032,\n",
       "  'crop_box': [0.0, 0.0, 576.0, 432.0]},\n",
       " {'segmentation': array([[False, False, False, ..., False, False, False],\n",
       "         [False, False, False, ..., False, False, False],\n",
       "         [False, False, False, ..., False, False, False],\n",
       "         ...,\n",
       "         [False, False, False, ..., False, False, False],\n",
       "         [False, False, False, ..., False, False, False],\n",
       "         [False, False, False, ..., False, False, False]]),\n",
       "  'area': 1129,\n",
       "  'bbox': [194, 338, 134, 11],\n",
       "  'predicted_iou': 0.9051530361175537,\n",
       "  'point_coords': [[216.00000000000003, 342.00000000000006]],\n",
       "  'stability_score': 0.9370339512825012,\n",
       "  'crop_box': [0.0, 0.0, 576.0, 432.0]},\n",
       " {'segmentation': array([[False, False, False, ..., False, False, False],\n",
       "         [False, False, False, ..., False, False, False],\n",
       "         [False, False, False, ..., False, False, False],\n",
       "         ...,\n",
       "         [False, False, False, ..., False, False, False],\n",
       "         [False, False, False, ..., False, False, False],\n",
       "         [False, False, False, ..., False, False, False]]),\n",
       "  'area': 1552,\n",
       "  'bbox': [343, 321, 77, 26],\n",
       "  'predicted_iou': 0.9034154415130615,\n",
       "  'point_coords': [[408.0, 342.00000000000006]],\n",
       "  'stability_score': 0.9329643249511719,\n",
       "  'crop_box': [0.0, 0.0, 576.0, 432.0]},\n",
       " {'segmentation': array([[False, False, False, ..., False, False, False],\n",
       "         [False, False, False, ..., False, False, False],\n",
       "         [False, False, False, ..., False, False, False],\n",
       "         ...,\n",
       "         [False, False, False, ..., False, False, False],\n",
       "         [False, False, False, ..., False, False, False],\n",
       "         [False, False, False, ..., False, False, False]]),\n",
       "  'area': 1705,\n",
       "  'bbox': [116, 319, 80, 27],\n",
       "  'predicted_iou': 0.8958064317703247,\n",
       "  'point_coords': [[120.0, 342.00000000000006]],\n",
       "  'stability_score': 0.9613832831382751,\n",
       "  'crop_box': [0.0, 0.0, 576.0, 432.0]},\n",
       " {'segmentation': array([[False, False, False, ..., False, False, False],\n",
       "         [False, False, False, ..., False, False, False],\n",
       "         [False, False, False, ..., False, False, False],\n",
       "         ...,\n",
       "         [False, False, False, ..., False, False, False],\n",
       "         [False, False, False, ..., False, False, False],\n",
       "         [False, False, False, ..., False, False, False]]),\n",
       "  'area': 2651,\n",
       "  'bbox': [35, 108, 51, 84],\n",
       "  'predicted_iou': 0.8530234098434448,\n",
       "  'point_coords': [[72.0, 162.00000000000003]],\n",
       "  'stability_score': 0.9338422417640686,\n",
       "  'crop_box': [0.0, 0.0, 576.0, 432.0]}]"
      ]
     },
     "execution_count": 3,
     "metadata": {},
     "output_type": "execute_result"
    }
   ],
   "source": [
    "data"
   ]
  },
  {
   "cell_type": "code",
   "execution_count": 28,
   "id": "8698698f",
   "metadata": {},
   "outputs": [],
   "source": [
    "def read_coords(pkl):\n",
    "    coords = []\n",
    "    for d in pkl:\n",
    "        coords.append(d['point_coords'])\n",
    "    return np.array(coords).reshape(np.shape(coords)[0], np.shape(coords)[2])\n",
    "\n",
    "def find_seg_centers(pkl):\n",
    "    centers = []\n",
    "    for d in pkl:\n",
    "        img = np.array(d['segmentation']).astype('uint8')\n",
    "        contours,hierarchy = cv2.findContours(img, 1,2)\n",
    "        M = cv2.moments(contours[0])\n",
    "        cx = int(M['m10']/M['m00'])\n",
    "        cy = int(M['m01']/M['m00'])\n",
    "        centers.append([cx, cy])\n",
    "    return centers\n",
    "\n",
    "def icp_coord(template, coords):\n",
    "    pc_fix = PointCloud(coords, columns=[\"x\", \"y\", \"z\"])\n",
    "    pc_mov = PointCloud(template, columns=[\"x\", \"y\", \"z\"])\n",
    "    \n",
    "    icp = SimpleICP()\n",
    "    icp.add_point_clouds(pc_fix, pc_mov)\n",
    "    H, X_mov_transformed, rigid_body_transformation_params, distance_residuals = icp.run(max_overlap_distance=100)\n",
    "    return H"
   ]
  },
  {
   "cell_type": "code",
   "execution_count": 29,
   "id": "7ded2799",
   "metadata": {},
   "outputs": [
    {
     "data": {
      "text/plain": [
       "[{'segmentation': array([[False, False, False, ..., False, False, False],\n",
       "         [False, False, False, ..., False, False, False],\n",
       "         [False, False, False, ..., False, False, False],\n",
       "         ...,\n",
       "         [False, False, False, ..., False, False, False],\n",
       "         [False, False, False, ..., False, False, False],\n",
       "         [False, False, False, ..., False, False, False]]),\n",
       "  'area': 162,\n",
       "  'bbox': [403, 338, 28, 13],\n",
       "  'predicted_iou': 0.9061435461044312,\n",
       "  'point_coords': [[411.0, 351.0]],\n",
       "  'stability_score': 0.9580838084220886,\n",
       "  'crop_box': [378.0, 270.0, 198.0, 162.0]},\n",
       " {'segmentation': array([[False, False, False, ..., False, False, False],\n",
       "         [False, False, False, ..., False, False, False],\n",
       "         [False, False, False, ..., False, False, False],\n",
       "         ...,\n",
       "         [False, False, False, ..., False, False, False],\n",
       "         [False, False, False, ..., False, False, False],\n",
       "         [False, False, False, ..., False, False, False]]),\n",
       "  'area': 1488,\n",
       "  'bbox': [0, 377, 75, 41],\n",
       "  'predicted_iou': 0.9003849029541016,\n",
       "  'point_coords': [[33.166666666666664, 405.0]],\n",
       "  'stability_score': 0.9026888608932495,\n",
       "  'crop_box': [0.0, 270.0, 199.0, 162.0]},\n",
       " {'segmentation': array([[False, False, False, ..., False, False, False],\n",
       "         [False, False, False, ..., False, False, False],\n",
       "         [False, False, False, ..., False, False, False],\n",
       "         ...,\n",
       "         [False, False, False, ..., False, False, False],\n",
       "         [False, False, False, ..., False, False, False],\n",
       "         [False, False, False, ..., False, False, False]]),\n",
       "  'area': 393,\n",
       "  'bbox': [333, 350, 55, 10],\n",
       "  'predicted_iou': 0.8995792865753174,\n",
       "  'point_coords': [[351.5, 351.0]],\n",
       "  'stability_score': 0.9648241400718689,\n",
       "  'crop_box': [252.0, 270.0, 199.0, 162.0]},\n",
       " {'segmentation': array([[False, False, False, ..., False, False, False],\n",
       "         [False, False, False, ..., False, False, False],\n",
       "         [False, False, False, ..., False, False, False],\n",
       "         ...,\n",
       "         [False, False, False, ..., False, False, False],\n",
       "         [False, False, False, ..., False, False, False],\n",
       "         [False, False, False, ..., False, False, False]]),\n",
       "  'area': 1234,\n",
       "  'bbox': [507, 203, 44, 38],\n",
       "  'predicted_iou': 0.9594660997390747,\n",
       "  'point_coords': [[543.0, 207.16666666666666]],\n",
       "  'stability_score': 0.97678142786026,\n",
       "  'crop_box': [378.0, 180.0, 198.0, 163.0]},\n",
       " {'segmentation': array([[ True,  True,  True, ..., False, False, False],\n",
       "         [ True,  True,  True, ..., False, False, False],\n",
       "         [ True,  True,  True, ..., False, False, False],\n",
       "         ...,\n",
       "         [False, False, False, ..., False, False, False],\n",
       "         [False, False, False, ..., False, False, False],\n",
       "         [False, False, False, ..., False, False, False]]),\n",
       "  'area': 4010,\n",
       "  'bbox': [0, 0, 90, 58],\n",
       "  'predicted_iou': 0.9960914254188538,\n",
       "  'point_coords': [[33.166666666666664, 27.166666666666664]],\n",
       "  'stability_score': 0.9848371744155884,\n",
       "  'crop_box': [0.0, 0.0, 199.0, 163.0]},\n",
       " {'segmentation': array([[False, False, False, ..., False, False, False],\n",
       "         [False, False, False, ..., False, False, False],\n",
       "         [False, False, False, ..., False, False, False],\n",
       "         ...,\n",
       "         [False, False, False, ..., False, False, False],\n",
       "         [False, False, False, ..., False, False, False],\n",
       "         [False, False, False, ..., False, False, False]]),\n",
       "  'area': 401,\n",
       "  'bbox': [209, 204, 21, 21],\n",
       "  'predicted_iou': 0.9964171648025513,\n",
       "  'point_coords': [[225.5, 207.16666666666666]],\n",
       "  'stability_score': 1.0,\n",
       "  'crop_box': [126.0, 180.0, 199.0, 163.0]},\n",
       " {'segmentation': array([[False, False, False, ..., False, False, False],\n",
       "         [False, False, False, ..., False, False, False],\n",
       "         [False, False, False, ..., False, False, False],\n",
       "         ...,\n",
       "         [False, False, False, ..., False, False, False],\n",
       "         [False, False, False, ..., False, False, False],\n",
       "         [False, False, False, ..., False, False, False]]),\n",
       "  'area': 953,\n",
       "  'bbox': [208, 244, 18, 59],\n",
       "  'predicted_iou': 0.9591643214225769,\n",
       "  'point_coords': [[225.5, 261.5]],\n",
       "  'stability_score': 0.9885057210922241,\n",
       "  'crop_box': [126.0, 180.0, 199.0, 163.0]},\n",
       " {'segmentation': array([[False, False, False, ..., False, False, False],\n",
       "         [False, False, False, ..., False, False, False],\n",
       "         [False, False, False, ..., False, False, False],\n",
       "         ...,\n",
       "         [False, False, False, ..., False, False, False],\n",
       "         [False, False, False, ..., False, False, False],\n",
       "         [False, False, False, ..., False, False, False]]),\n",
       "  'area': 377,\n",
       "  'bbox': [339, 125, 23, 16],\n",
       "  'predicted_iou': 0.9804379940032959,\n",
       "  'point_coords': [[351.5, 135.83333333333334]],\n",
       "  'stability_score': 0.9868766665458679,\n",
       "  'crop_box': [252.0, 0.0, 199.0, 163.0]},\n",
       " {'segmentation': array([[False, False, False, ..., False, False, False],\n",
       "         [False, False, False, ..., False, False, False],\n",
       "         [False, False, False, ..., False, False, False],\n",
       "         ...,\n",
       "         [False, False, False, ..., False, False, False],\n",
       "         [False, False, False, ..., False, False, False],\n",
       "         [False, False, False, ..., False, False, False]]),\n",
       "  'area': 103,\n",
       "  'bbox': [303, 164, 11, 10],\n",
       "  'predicted_iou': 0.9798344969749451,\n",
       "  'point_coords': [[305.25, 167.08333333333334]],\n",
       "  'stability_score': 0.9714285731315613,\n",
       "  'crop_box': [215.0, 143.0, 361.0, 289.0]},\n",
       " {'segmentation': array([[False, False, False, ..., False, False, False],\n",
       "         [False, False, False, ..., False, False, False],\n",
       "         [False, False, False, ..., False, False, False],\n",
       "         ...,\n",
       "         [False, False, False, ..., False, False, False],\n",
       "         [False, False, False, ..., False, False, False],\n",
       "         [False, False, False, ..., False, False, False]]),\n",
       "  'area': 1621,\n",
       "  'bbox': [481, 242, 94, 39],\n",
       "  'predicted_iou': 0.8554577827453613,\n",
       "  'point_coords': [[545.9166666666666, 263.41666666666663]],\n",
       "  'stability_score': 0.9061946868896484,\n",
       "  'crop_box': [215.0, 143.0, 361.0, 289.0]},\n",
       " {'segmentation': array([[False, False, False, ..., False, False, False],\n",
       "         [False, False, False, ..., False, False, False],\n",
       "         [False, False, False, ..., False, False, False],\n",
       "         ...,\n",
       "         [False, False, False, ..., False, False, False],\n",
       "         [False, False, False, ..., False, False, False],\n",
       "         [False, False, False, ..., False, False, False]]),\n",
       "  'area': 498,\n",
       "  'bbox': [403, 301, 24, 39],\n",
       "  'predicted_iou': 0.8133628368377686,\n",
       "  'point_coords': [[425.58333333333337, 311.58333333333337]],\n",
       "  'stability_score': 0.9370078444480896,\n",
       "  'crop_box': [215.0, 143.0, 361.0, 289.0]},\n",
       " {'segmentation': array([[False, False, False, ..., False, False, False],\n",
       "         [False, False, False, ..., False, False, False],\n",
       "         [False, False, False, ..., False, False, False],\n",
       "         ...,\n",
       "         [False, False, False, ..., False, False, False],\n",
       "         [False, False, False, ..., False, False, False],\n",
       "         [False, False, False, ..., False, False, False]]),\n",
       "  'area': 234,\n",
       "  'bbox': [209, 248, 12, 19],\n",
       "  'predicted_iou': 0.9777836799621582,\n",
       "  'point_coords': [[211.16666666666669, 263.41666666666663]],\n",
       "  'stability_score': 0.9957447052001953,\n",
       "  'crop_box': [0.0, 143.0, 362.0, 289.0]},\n",
       " {'segmentation': array([[False, False, False, ..., False, False, False],\n",
       "         [False, False, False, ..., False, False, False],\n",
       "         [False, False, False, ..., False, False, False],\n",
       "         ...,\n",
       "         [False, False, False, ..., False, False, False],\n",
       "         [False, False, False, ..., False, False, False],\n",
       "         [False, False, False, ..., False, False, False]]),\n",
       "  'area': 341,\n",
       "  'bbox': [474, 104, 24, 25],\n",
       "  'predicted_iou': 0.9748295545578003,\n",
       "  'point_coords': [[485.75, 120.83333333333333]],\n",
       "  'stability_score': 0.9854651093482971,\n",
       "  'crop_box': [215.0, 0.0, 361.0, 290.0]},\n",
       " {'segmentation': array([[False, False, False, ..., False, False, False],\n",
       "         [False, False, False, ..., False, False, False],\n",
       "         [False, False, False, ..., False, False, False],\n",
       "         ...,\n",
       "         [False, False, False, ..., False, False, False],\n",
       "         [False, False, False, ..., False, False, False],\n",
       "         [False, False, False, ..., False, False, False]]),\n",
       "  'area': 5194,\n",
       "  'bbox': [0, 105, 86, 124],\n",
       "  'predicted_iou': 0.9157994389533997,\n",
       "  'point_coords': [[30.166666666666664, 217.5]],\n",
       "  'stability_score': 0.9380934834480286,\n",
       "  'crop_box': [0.0, 0.0, 362.0, 290.0]},\n",
       " {'segmentation': array([[False, False, False, ..., False, False, False],\n",
       "         [False, False, False, ..., False, False, False],\n",
       "         [False, False, False, ..., False, False, False],\n",
       "         ...,\n",
       "         [False, False, False, ..., False, False, False],\n",
       "         [False, False, False, ..., False, False, False],\n",
       "         [False, False, False, ..., False, False, False]]),\n",
       "  'area': 512,\n",
       "  'bbox': [342, 223, 25, 24],\n",
       "  'predicted_iou': 1.0067716836929321,\n",
       "  'point_coords': [[360.0, 233.99999999999997]],\n",
       "  'stability_score': 0.9922027587890625,\n",
       "  'crop_box': [0.0, 0.0, 576.0, 432.0]},\n",
       " {'segmentation': array([[False, False, False, ..., False, False, False],\n",
       "         [False, False, False, ..., False, False, False],\n",
       "         [False, False, False, ..., False, False, False],\n",
       "         ...,\n",
       "         [False, False, False, ..., False, False, False],\n",
       "         [False, False, False, ..., False, False, False],\n",
       "         [False, False, False, ..., False, False, False]]),\n",
       "  'area': 896,\n",
       "  'bbox': [112, 141, 22, 39],\n",
       "  'predicted_iou': 0.9934390783309937,\n",
       "  'point_coords': [[120.0, 162.00000000000003]],\n",
       "  'stability_score': 0.9900221824645996,\n",
       "  'crop_box': [0.0, 0.0, 576.0, 432.0]},\n",
       " {'segmentation': array([[False, False, False, ..., False, False, False],\n",
       "         [False, False, False, ..., False, False, False],\n",
       "         [False, False, False, ..., False, False, False],\n",
       "         ...,\n",
       "         [ True,  True,  True, ..., False, False, False],\n",
       "         [ True,  True,  True, ..., False, False, False],\n",
       "         [ True,  True,  True, ..., False, False, False]]),\n",
       "  'area': 1723,\n",
       "  'bbox': [0, 407, 95, 24],\n",
       "  'predicted_iou': 0.9829492568969727,\n",
       "  'point_coords': [[24.0, 414.0]],\n",
       "  'stability_score': 0.9855741262435913,\n",
       "  'crop_box': [0.0, 0.0, 576.0, 432.0]},\n",
       " {'segmentation': array([[False, False, False, ..., False, False, False],\n",
       "         [False, False, False, ..., False, False, False],\n",
       "         [False, False, False, ..., False, False, False],\n",
       "         ...,\n",
       "         [False, False, False, ..., False, False, False],\n",
       "         [False, False, False, ..., False, False, False],\n",
       "         [False, False, False, ..., False, False, False]]),\n",
       "  'area': 832,\n",
       "  'bbox': [365, 0, 55, 22],\n",
       "  'predicted_iou': 0.9811840057373047,\n",
       "  'point_coords': [[408.0, 18.0]],\n",
       "  'stability_score': 0.9928057789802551,\n",
       "  'crop_box': [0.0, 0.0, 576.0, 432.0]},\n",
       " {'segmentation': array([[False, False, False, ..., False, False, False],\n",
       "         [False, False, False, ..., False, False, False],\n",
       "         [False, False, False, ..., False, False, False],\n",
       "         ...,\n",
       "         [False, False, False, ..., False, False, False],\n",
       "         [False, False, False, ..., False, False, False],\n",
       "         [False, False, False, ..., False, False, False]]),\n",
       "  'area': 286,\n",
       "  'bbox': [392, 124, 18, 16],\n",
       "  'predicted_iou': 0.9804168939590454,\n",
       "  'point_coords': [[408.0, 126.00000000000001]],\n",
       "  'stability_score': 0.9793103337287903,\n",
       "  'crop_box': [0.0, 0.0, 576.0, 432.0]},\n",
       " {'segmentation': array([[False, False, False, ..., False, False, False],\n",
       "         [False, False, False, ..., False, False, False],\n",
       "         [False, False, False, ..., False, False, False],\n",
       "         ...,\n",
       "         [False, False, False, ..., False, False, False],\n",
       "         [False, False, False, ..., False, False, False],\n",
       "         [False, False, False, ..., False, False, False]]),\n",
       "  'area': 1196,\n",
       "  'bbox': [118, 220, 27, 48],\n",
       "  'predicted_iou': 0.9646596312522888,\n",
       "  'point_coords': [[120.0, 233.99999999999997]],\n",
       "  'stability_score': 0.9842454195022583,\n",
       "  'crop_box': [0.0, 0.0, 576.0, 432.0]},\n",
       " {'segmentation': array([[False, False, False, ..., False, False, False],\n",
       "         [False, False, False, ..., False, False, False],\n",
       "         [False, False, False, ..., False, False, False],\n",
       "         ...,\n",
       "         [False, False, False, ..., False, False, False],\n",
       "         [False, False, False, ..., False, False, False],\n",
       "         [False, False, False, ..., False, False, False]]),\n",
       "  'area': 3359,\n",
       "  'bbox': [104, 108, 44, 79],\n",
       "  'predicted_iou': 0.9639772176742554,\n",
       "  'point_coords': [[120.0, 162.00000000000003]],\n",
       "  'stability_score': 0.9572301506996155,\n",
       "  'crop_box': [0.0, 0.0, 576.0, 432.0]},\n",
       " {'segmentation': array([[False, False, False, ..., False, False, False],\n",
       "         [False, False, False, ..., False, False, False],\n",
       "         [False, False, False, ..., False, False, False],\n",
       "         ...,\n",
       "         [False, False, False, ..., False, False, False],\n",
       "         [False, False, False, ..., False, False, False],\n",
       "         [False, False, False, ..., False, False, False]]),\n",
       "  'area': 541,\n",
       "  'bbox': [257, 117, 14, 40],\n",
       "  'predicted_iou': 0.9601002931594849,\n",
       "  'point_coords': [[264.00000000000006, 126.00000000000001]],\n",
       "  'stability_score': 0.9890109896659851,\n",
       "  'crop_box': [0.0, 0.0, 576.0, 432.0]},\n",
       " {'segmentation': array([[False, False, False, ..., False, False, False],\n",
       "         [False, False, False, ..., False, False, False],\n",
       "         [False, False, False, ..., False, False, False],\n",
       "         ...,\n",
       "         [False, False, False, ..., False, False, False],\n",
       "         [False, False, False, ..., False, False, False],\n",
       "         [False, False, False, ..., False, False, False]]),\n",
       "  'area': 180,\n",
       "  'bbox': [432, 120, 25, 8],\n",
       "  'predicted_iou': 0.9308105707168579,\n",
       "  'point_coords': [[456.00000000000006, 126.00000000000001]],\n",
       "  'stability_score': 0.9728260636329651,\n",
       "  'crop_box': [0.0, 0.0, 576.0, 432.0]},\n",
       " {'segmentation': array([[False, False, False, ..., False, False, False],\n",
       "         [False, False, False, ..., False, False, False],\n",
       "         [False, False, False, ..., False, False, False],\n",
       "         ...,\n",
       "         [False, False, False, ..., False, False, False],\n",
       "         [False, False, False, ..., False, False, False],\n",
       "         [False, False, False, ..., False, False, False]]),\n",
       "  'area': 1714,\n",
       "  'bbox': [333, 0, 99, 29],\n",
       "  'predicted_iou': 0.9201636910438538,\n",
       "  'point_coords': [[408.0, 18.0]],\n",
       "  'stability_score': 0.9837962985038757,\n",
       "  'crop_box': [0.0, 0.0, 576.0, 432.0]},\n",
       " {'segmentation': array([[False, False, False, ..., False, False, False],\n",
       "         [False, False, False, ..., False, False, False],\n",
       "         [False, False, False, ..., False, False, False],\n",
       "         ...,\n",
       "         [False, False, False, ..., False, False, False],\n",
       "         [False, False, False, ..., False, False, False],\n",
       "         [False, False, False, ..., False, False, False]]),\n",
       "  'area': 317,\n",
       "  'bbox': [111, 119, 22, 14],\n",
       "  'predicted_iou': 0.9031190872192383,\n",
       "  'point_coords': [[120.0, 126.00000000000001]],\n",
       "  'stability_score': 0.9779874086380005,\n",
       "  'crop_box': [0.0, 0.0, 576.0, 432.0]},\n",
       " {'segmentation': array([[False, False, False, ..., False, False, False],\n",
       "         [False, False, False, ..., False, False, False],\n",
       "         [False, False, False, ..., False, False, False],\n",
       "         ...,\n",
       "         [False, False, False, ..., False, False, False],\n",
       "         [False, False, False, ..., False, False, False],\n",
       "         [False, False, False, ..., False, False, False]]),\n",
       "  'area': 413,\n",
       "  'bbox': [539, 157, 36, 28],\n",
       "  'predicted_iou': 0.9027552604675293,\n",
       "  'point_coords': [[552.0, 162.00000000000003]],\n",
       "  'stability_score': 0.9618138670921326,\n",
       "  'crop_box': [0.0, 0.0, 576.0, 432.0]},\n",
       " {'segmentation': array([[False, False, False, ..., False, False, False],\n",
       "         [False, False, False, ..., False, False, False],\n",
       "         [False, False, False, ..., False, False, False],\n",
       "         ...,\n",
       "         [False, False, False, ..., False, False, False],\n",
       "         [False, False, False, ..., False, False, False],\n",
       "         [False, False, False, ..., False, False, False]]),\n",
       "  'area': 147,\n",
       "  'bbox': [429, 158, 27, 5],\n",
       "  'predicted_iou': 0.8957428932189941,\n",
       "  'point_coords': [[456.00000000000006, 162.00000000000003]],\n",
       "  'stability_score': 0.9798657894134521,\n",
       "  'crop_box': [0.0, 0.0, 576.0, 432.0]},\n",
       " {'segmentation': array([[False, False, False, ..., False, False, False],\n",
       "         [False, False, False, ..., False, False, False],\n",
       "         [False, False, False, ..., False, False, False],\n",
       "         ...,\n",
       "         [False, False, False, ..., False, False, False],\n",
       "         [False, False, False, ..., False, False, False],\n",
       "         [False, False, False, ..., False, False, False]]),\n",
       "  'area': 295,\n",
       "  'bbox': [122, 224, 18, 18],\n",
       "  'predicted_iou': 0.8934378623962402,\n",
       "  'point_coords': [[120.0, 233.99999999999997]],\n",
       "  'stability_score': 0.9700000286102295,\n",
       "  'crop_box': [0.0, 0.0, 576.0, 432.0]},\n",
       " {'segmentation': array([[False, False, False, ..., False, False, False],\n",
       "         [False, False, False, ..., False, False, False],\n",
       "         [False, False, False, ..., False, False, False],\n",
       "         ...,\n",
       "         [False, False, False, ..., False, False, False],\n",
       "         [False, False, False, ..., False, False, False],\n",
       "         [False, False, False, ..., False, False, False]]),\n",
       "  'area': 420,\n",
       "  'bbox': [310, 126, 27, 15],\n",
       "  'predicted_iou': 0.8897963762283325,\n",
       "  'point_coords': [[312.0, 126.00000000000001]],\n",
       "  'stability_score': 0.9537037014961243,\n",
       "  'crop_box': [0.0, 0.0, 576.0, 432.0]},\n",
       " {'segmentation': array([[ True,  True,  True, ..., False, False, False],\n",
       "         [ True,  True,  True, ..., False, False, False],\n",
       "         [ True,  True,  True, ..., False, False, False],\n",
       "         ...,\n",
       "         [False, False, False, ..., False, False, False],\n",
       "         [False, False, False, ..., False, False, False],\n",
       "         [False, False, False, ..., False, False, False]]),\n",
       "  'area': 5714,\n",
       "  'bbox': [0, 0, 90, 163],\n",
       "  'predicted_iou': 0.8713419437408447,\n",
       "  'point_coords': [[24.0, 54.0]],\n",
       "  'stability_score': 0.9455008506774902,\n",
       "  'crop_box': [0.0, 0.0, 576.0, 432.0]},\n",
       " {'segmentation': array([[False, False, False, ..., False, False, False],\n",
       "         [False, False, False, ..., False, False, False],\n",
       "         [False, False, False, ..., False, False, False],\n",
       "         ...,\n",
       "         [False, False, False, ..., False, False, False],\n",
       "         [False, False, False, ..., False, False, False],\n",
       "         [False, False, False, ..., False, False, False]]),\n",
       "  'area': 345,\n",
       "  'bbox': [529, 266, 46, 15],\n",
       "  'predicted_iou': 0.8066076040267944,\n",
       "  'point_coords': [[552.0, 270.0]],\n",
       "  'stability_score': 0.9303621053695679,\n",
       "  'crop_box': [0.0, 0.0, 576.0, 432.0]},\n",
       " {'segmentation': array([[False, False, False, ..., False, False, False],\n",
       "         [False, False, False, ..., False, False, False],\n",
       "         [False, False, False, ..., False, False, False],\n",
       "         ...,\n",
       "         [False, False, False, ..., False, False, False],\n",
       "         [False, False, False, ..., False, False, False],\n",
       "         [False, False, False, ..., False, False, False]]),\n",
       "  'area': 3416,\n",
       "  'bbox': [0, 376, 167, 55],\n",
       "  'predicted_iou': 0.9728997945785522,\n",
       "  'point_coords': [[33.166666666666664, 405.0]],\n",
       "  'stability_score': 0.9351305961608887,\n",
       "  'crop_box': [0.0, 270.0, 199.0, 162.0]},\n",
       " {'segmentation': array([[False, False, False, ..., False, False, False],\n",
       "         [False, False, False, ..., False, False, False],\n",
       "         [False, False, False, ..., False, False, False],\n",
       "         ...,\n",
       "         [False, False, False, ..., False, False, False],\n",
       "         [False, False, False, ..., False, False, False],\n",
       "         [False, False, False, ..., False, False, False]]),\n",
       "  'area': 49,\n",
       "  'bbox': [409, 123, 3, 16],\n",
       "  'predicted_iou': 0.7879993915557861,\n",
       "  'point_coords': [[411.0, 135.83333333333334]],\n",
       "  'stability_score': 0.9599999785423279,\n",
       "  'crop_box': [378.0, 0.0, 198.0, 163.0]},\n",
       " {'segmentation': array([[False, False, False, ..., False, False, False],\n",
       "         [False, False, False, ..., False, False, False],\n",
       "         [False, False, False, ..., False, False, False],\n",
       "         ...,\n",
       "         [False, False, False, ..., False, False, False],\n",
       "         [False, False, False, ..., False, False, False],\n",
       "         [False, False, False, ..., False, False, False]]),\n",
       "  'area': 1814,\n",
       "  'bbox': [293, 124, 116, 18],\n",
       "  'predicted_iou': 0.7145115733146667,\n",
       "  'point_coords': [[351.5, 135.83333333333334]],\n",
       "  'stability_score': 0.9154550433158875,\n",
       "  'crop_box': [252.0, 0.0, 199.0, 163.0]},\n",
       " {'segmentation': array([[False, False, False, ..., False, False, False],\n",
       "         [False, False, False, ..., False, False, False],\n",
       "         [False, False, False, ..., False, False, False],\n",
       "         ...,\n",
       "         [False, False, False, ..., False, False, False],\n",
       "         [False, False, False, ..., False, False, False],\n",
       "         [False, False, False, ..., False, False, False]]),\n",
       "  'area': 1779,\n",
       "  'bbox': [125, 280, 72, 41],\n",
       "  'predicted_iou': 0.8144897222518921,\n",
       "  'point_coords': [[150.83333333333331, 311.58333333333337]],\n",
       "  'stability_score': 0.9159142374992371,\n",
       "  'crop_box': [0.0, 143.0, 362.0, 289.0]},\n",
       " {'segmentation': array([[False, False, False, ..., False, False, False],\n",
       "         [False, False, False, ..., False, False, False],\n",
       "         [False, False, False, ..., False, False, False],\n",
       "         ...,\n",
       "         [False, False, False, ..., False, False, False],\n",
       "         [False, False, False, ..., False, False, False],\n",
       "         [False, False, False, ..., False, False, False]]),\n",
       "  'area': 97,\n",
       "  'bbox': [327, 285, 8, 15],\n",
       "  'predicted_iou': 0.8067269325256348,\n",
       "  'point_coords': [[331.8333333333333, 311.58333333333337]],\n",
       "  'stability_score': 0.908450722694397,\n",
       "  'crop_box': [0.0, 143.0, 362.0, 289.0]},\n",
       " {'segmentation': array([[False, False, False, ..., False, False, False],\n",
       "         [False, False, False, ..., False, False, False],\n",
       "         [False, False, False, ..., False, False, False],\n",
       "         ...,\n",
       "         [False, False, False, ..., False, False, False],\n",
       "         [False, False, False, ..., False, False, False],\n",
       "         [False, False, False, ..., False, False, False]]),\n",
       "  'area': 16385,\n",
       "  'bbox': [286, 140, 135, 127],\n",
       "  'predicted_iou': 0.9878987073898315,\n",
       "  'point_coords': [[305.25, 265.8333333333333]],\n",
       "  'stability_score': 0.9680433869361877,\n",
       "  'crop_box': [215.0, 0.0, 361.0, 290.0]},\n",
       " {'segmentation': array([[False, False, False, ..., False, False, False],\n",
       "         [False, False, False, ..., False, False, False],\n",
       "         [False, False, False, ..., False, False, False],\n",
       "         ...,\n",
       "         [False, False, False, ..., False, False, False],\n",
       "         [False, False, False, ..., False, False, False],\n",
       "         [False, False, False, ..., False, False, False]]),\n",
       "  'area': 2937,\n",
       "  'bbox': [478, 5, 97, 94],\n",
       "  'predicted_iou': 0.9766438007354736,\n",
       "  'point_coords': [[545.9166666666666, 72.5]],\n",
       "  'stability_score': 0.9740740656852722,\n",
       "  'crop_box': [215.0, 0.0, 361.0, 290.0]},\n",
       " {'segmentation': array([[False, False, False, ..., False, False, False],\n",
       "         [False, False, False, ..., False, False, False],\n",
       "         [False, False, False, ..., False, False, False],\n",
       "         ...,\n",
       "         [False, False, False, ..., False, False, False],\n",
       "         [False, False, False, ..., False, False, False],\n",
       "         [False, False, False, ..., False, False, False]]),\n",
       "  'area': 2914,\n",
       "  'bbox': [419, 54, 46, 75],\n",
       "  'predicted_iou': 0.8474452495574951,\n",
       "  'point_coords': [[425.58333333333337, 120.83333333333333]],\n",
       "  'stability_score': 0.9025087356567383,\n",
       "  'crop_box': [215.0, 0.0, 361.0, 290.0]},\n",
       " {'segmentation': array([[False, False, False, ..., False, False, False],\n",
       "         [False, False, False, ..., False, False, False],\n",
       "         [False, False, False, ..., False, False, False],\n",
       "         ...,\n",
       "         [False, False, False, ..., False, False, False],\n",
       "         [False, False, False, ..., False, False, False],\n",
       "         [False, False, False, ..., False, False, False]]),\n",
       "  'area': 373,\n",
       "  'bbox': [257, 111, 33, 16],\n",
       "  'predicted_iou': 0.8642815351486206,\n",
       "  'point_coords': [[271.5, 120.83333333333333]],\n",
       "  'stability_score': 0.9711285829544067,\n",
       "  'crop_box': [0.0, 0.0, 362.0, 290.0]},\n",
       " {'segmentation': array([[False, False, False, ..., False, False, False],\n",
       "         [False, False, False, ..., False, False, False],\n",
       "         [False, False, False, ..., False, False, False],\n",
       "         ...,\n",
       "         [False, False, False, ..., False, False, False],\n",
       "         [False, False, False, ..., False, False, False],\n",
       "         [False, False, False, ..., False, False, False]]),\n",
       "  'area': 1465,\n",
       "  'bbox': [257, 111, 35, 47],\n",
       "  'predicted_iou': 0.8518688082695007,\n",
       "  'point_coords': [[271.5, 120.83333333333333]],\n",
       "  'stability_score': 0.9462365508079529,\n",
       "  'crop_box': [0.0, 0.0, 362.0, 290.0]},\n",
       " {'segmentation': array([[False, False, False, ..., False, False, False],\n",
       "         [False, False, False, ..., False, False, False],\n",
       "         [False, False, False, ...,  True,  True,  True],\n",
       "         ...,\n",
       "         [False, False, False, ...,  True,  True,  True],\n",
       "         [False, False, False, ..., False, False, False],\n",
       "         [False, False, False, ..., False, False, False]]),\n",
       "  'area': 116436,\n",
       "  'bbox': [0, 0, 575, 430],\n",
       "  'predicted_iou': 1.0033485889434814,\n",
       "  'point_coords': [[216.00000000000003, 378.00000000000006]],\n",
       "  'stability_score': 0.9340105056762695,\n",
       "  'crop_box': [0.0, 0.0, 576.0, 432.0]},\n",
       " {'segmentation': array([[False, False, False, ..., False, False, False],\n",
       "         [False, False, False, ..., False, False, False],\n",
       "         [False, False, False, ..., False, False, False],\n",
       "         ...,\n",
       "         [False, False, False, ..., False, False, False],\n",
       "         [False, False, False, ..., False, False, False],\n",
       "         [False, False, False, ..., False, False, False]]),\n",
       "  'area': 1904,\n",
       "  'bbox': [340, 276, 74, 43],\n",
       "  'predicted_iou': 0.917543888092041,\n",
       "  'point_coords': [[408.0, 306.0]],\n",
       "  'stability_score': 0.9631713628768921,\n",
       "  'crop_box': [0.0, 0.0, 576.0, 432.0]},\n",
       " {'segmentation': array([[False, False, False, ..., False, False, False],\n",
       "         [False, False, False, ..., False, False, False],\n",
       "         [False, False, False, ..., False, False, False],\n",
       "         ...,\n",
       "         [False, False, False, ..., False, False, False],\n",
       "         [False, False, False, ..., False, False, False],\n",
       "         [False, False, False, ..., False, False, False]]),\n",
       "  'area': 3805,\n",
       "  'bbox': [478, 5, 97, 180],\n",
       "  'predicted_iou': 0.9152841567993164,\n",
       "  'point_coords': [[504.00000000000006, 18.0]],\n",
       "  'stability_score': 0.9073292016983032,\n",
       "  'crop_box': [0.0, 0.0, 576.0, 432.0]},\n",
       " {'segmentation': array([[False, False, False, ..., False, False, False],\n",
       "         [False, False, False, ..., False, False, False],\n",
       "         [False, False, False, ..., False, False, False],\n",
       "         ...,\n",
       "         [False, False, False, ..., False, False, False],\n",
       "         [False, False, False, ..., False, False, False],\n",
       "         [False, False, False, ..., False, False, False]]),\n",
       "  'area': 1129,\n",
       "  'bbox': [194, 338, 134, 11],\n",
       "  'predicted_iou': 0.9051530361175537,\n",
       "  'point_coords': [[216.00000000000003, 342.00000000000006]],\n",
       "  'stability_score': 0.9370339512825012,\n",
       "  'crop_box': [0.0, 0.0, 576.0, 432.0]},\n",
       " {'segmentation': array([[False, False, False, ..., False, False, False],\n",
       "         [False, False, False, ..., False, False, False],\n",
       "         [False, False, False, ..., False, False, False],\n",
       "         ...,\n",
       "         [False, False, False, ..., False, False, False],\n",
       "         [False, False, False, ..., False, False, False],\n",
       "         [False, False, False, ..., False, False, False]]),\n",
       "  'area': 1552,\n",
       "  'bbox': [343, 321, 77, 26],\n",
       "  'predicted_iou': 0.9034154415130615,\n",
       "  'point_coords': [[408.0, 342.00000000000006]],\n",
       "  'stability_score': 0.9329643249511719,\n",
       "  'crop_box': [0.0, 0.0, 576.0, 432.0]},\n",
       " {'segmentation': array([[False, False, False, ..., False, False, False],\n",
       "         [False, False, False, ..., False, False, False],\n",
       "         [False, False, False, ..., False, False, False],\n",
       "         ...,\n",
       "         [False, False, False, ..., False, False, False],\n",
       "         [False, False, False, ..., False, False, False],\n",
       "         [False, False, False, ..., False, False, False]]),\n",
       "  'area': 1705,\n",
       "  'bbox': [116, 319, 80, 27],\n",
       "  'predicted_iou': 0.8958064317703247,\n",
       "  'point_coords': [[120.0, 342.00000000000006]],\n",
       "  'stability_score': 0.9613832831382751,\n",
       "  'crop_box': [0.0, 0.0, 576.0, 432.0]},\n",
       " {'segmentation': array([[False, False, False, ..., False, False, False],\n",
       "         [False, False, False, ..., False, False, False],\n",
       "         [False, False, False, ..., False, False, False],\n",
       "         ...,\n",
       "         [False, False, False, ..., False, False, False],\n",
       "         [False, False, False, ..., False, False, False],\n",
       "         [False, False, False, ..., False, False, False]]),\n",
       "  'area': 2651,\n",
       "  'bbox': [35, 108, 51, 84],\n",
       "  'predicted_iou': 0.8530234098434448,\n",
       "  'point_coords': [[72.0, 162.00000000000003]],\n",
       "  'stability_score': 0.9338422417640686,\n",
       "  'crop_box': [0.0, 0.0, 576.0, 432.0]}]"
      ]
     },
     "execution_count": 29,
     "metadata": {},
     "output_type": "execute_result"
    }
   ],
   "source": [
    "data"
   ]
  },
  {
   "cell_type": "code",
   "execution_count": 30,
   "id": "896ba5a6",
   "metadata": {},
   "outputs": [],
   "source": [
    "coords = np.array(find_seg_centers(data))"
   ]
  },
  {
   "cell_type": "code",
   "execution_count": 6,
   "id": "25adc1f5",
   "metadata": {},
   "outputs": [],
   "source": [
    "coords_3d = np.zeros((np.shape(coords)[0], 3))\n",
    "coords_3d[:, 0:2] = coords"
   ]
  },
  {
   "cell_type": "code",
   "execution_count": 7,
   "id": "bac96571",
   "metadata": {},
   "outputs": [
    {
     "data": {
      "text/plain": [
       "<matplotlib.collections.PathCollection at 0x7f797a553a00>"
      ]
     },
     "execution_count": 7,
     "metadata": {},
     "output_type": "execute_result"
    },
    {
     "data": {
      "image/png": "[encoded data removed]",
      "text/plain": [
       "<Figure size 700x700 with 1 Axes>"
      ]
     },
     "metadata": {},
     "output_type": "display_data"
    }
   ],
   "source": [
    "plt.style.use('_mpl-gallery')\n",
    "fig, ax = plt.subplots(figsize=(7, 7))\n",
    "ax.imshow(data[11]['segmentation'])\n",
    "ax.scatter(coords[:, 0], coords[:, 1])"
   ]
  },
  {
   "cell_type": "code",
   "execution_count": null,
   "id": "d14c6219",
   "metadata": {},
   "outputs": [],
   "source": []
  },
  {
   "cell_type": "code",
   "execution_count": 8,
   "id": "d4619ad1",
   "metadata": {},
   "outputs": [
    {
     "name": "stdout",
     "output_type": "stream",
     "text": [
      "Consider partial overlap of point clouds ...\n",
      "Select points for correspondences in fixed point cloud ...\n",
      "Estimate normals of selected points ...\n",
      "Start iterations ...\n",
      "iteration | correspondences | mean(residuals) |  std(residuals)\n",
      "   orig:0 |              27 |          0.0000 |          0.0000\n",
      "        1 |              26 |          0.0000 |          0.0000\n",
      "        2 |              26 |          0.0000 |          0.0000\n"
     ]
    },
    {
     "name": "stderr",
     "output_type": "stream",
     "text": [
      "/home/harryting/anaconda3/envs/robothon/lib/python3.10/site-packages/simpleicp/simpleicp.py:331: RuntimeWarning: invalid value encountered in double_scalars\n",
      "  return np.abs((new - old) / old * 100)\n",
      "/home/harryting/anaconda3/envs/robothon/lib/python3.10/site-packages/simpleicp/simpleicp.py:331: RuntimeWarning: invalid value encountered in double_scalars\n",
      "  return np.abs((new - old) / old * 100)\n"
     ]
    },
    {
     "name": "stdout",
     "output_type": "stream",
     "text": [
      "        3 |              26 |          0.0000 |          0.0000\n",
      "        4 |              26 |          0.0000 |          0.0000\n"
     ]
    },
    {
     "name": "stderr",
     "output_type": "stream",
     "text": [
      "/home/harryting/anaconda3/envs/robothon/lib/python3.10/site-packages/simpleicp/simpleicp.py:331: RuntimeWarning: invalid value encountered in double_scalars\n",
      "  return np.abs((new - old) / old * 100)\n",
      "/home/harryting/anaconda3/envs/robothon/lib/python3.10/site-packages/simpleicp/simpleicp.py:331: RuntimeWarning: invalid value encountered in double_scalars\n",
      "  return np.abs((new - old) / old * 100)\n"
     ]
    },
    {
     "name": "stdout",
     "output_type": "stream",
     "text": [
      "        5 |              26 |          0.0000 |          0.0000\n",
      "        6 |              26 |          0.0000 |          0.0000\n"
     ]
    },
    {
     "name": "stderr",
     "output_type": "stream",
     "text": [
      "/home/harryting/anaconda3/envs/robothon/lib/python3.10/site-packages/simpleicp/simpleicp.py:331: RuntimeWarning: invalid value encountered in double_scalars\n",
      "  return np.abs((new - old) / old * 100)\n",
      "/home/harryting/anaconda3/envs/robothon/lib/python3.10/site-packages/simpleicp/simpleicp.py:331: RuntimeWarning: invalid value encountered in double_scalars\n",
      "  return np.abs((new - old) / old * 100)\n"
     ]
    },
    {
     "name": "stdout",
     "output_type": "stream",
     "text": [
      "        7 |              26 |          0.0000 |          0.0000\n"
     ]
    },
    {
     "name": "stderr",
     "output_type": "stream",
     "text": [
      "/home/harryting/anaconda3/envs/robothon/lib/python3.10/site-packages/simpleicp/simpleicp.py:331: RuntimeWarning: invalid value encountered in double_scalars\n",
      "  return np.abs((new - old) / old * 100)\n",
      "/home/harryting/anaconda3/envs/robothon/lib/python3.10/site-packages/simpleicp/simpleicp.py:331: RuntimeWarning: invalid value encountered in double_scalars\n",
      "  return np.abs((new - old) / old * 100)\n"
     ]
    },
    {
     "name": "stdout",
     "output_type": "stream",
     "text": [
      "        8 |              26 |          0.0000 |          0.0000\n",
      "        9 |              26 |          0.0000 |          0.0000\n"
     ]
    },
    {
     "name": "stderr",
     "output_type": "stream",
     "text": [
      "/home/harryting/anaconda3/envs/robothon/lib/python3.10/site-packages/simpleicp/simpleicp.py:331: RuntimeWarning: invalid value encountered in double_scalars\n",
      "  return np.abs((new - old) / old * 100)\n",
      "/home/harryting/anaconda3/envs/robothon/lib/python3.10/site-packages/simpleicp/simpleicp.py:331: RuntimeWarning: invalid value encountered in double_scalars\n",
      "  return np.abs((new - old) / old * 100)\n"
     ]
    },
    {
     "name": "stdout",
     "output_type": "stream",
     "text": [
      "       10 |              26 |          0.0000 |          0.0000\n",
      "       11 |              26 |          0.0000 |          0.0000\n"
     ]
    },
    {
     "name": "stderr",
     "output_type": "stream",
     "text": [
      "/home/harryting/anaconda3/envs/robothon/lib/python3.10/site-packages/simpleicp/simpleicp.py:331: RuntimeWarning: invalid value encountered in double_scalars\n",
      "  return np.abs((new - old) / old * 100)\n",
      "/home/harryting/anaconda3/envs/robothon/lib/python3.10/site-packages/simpleicp/simpleicp.py:331: RuntimeWarning: invalid value encountered in double_scalars\n",
      "  return np.abs((new - old) / old * 100)\n"
     ]
    },
    {
     "name": "stdout",
     "output_type": "stream",
     "text": [
      "       12 |              26 |          0.0000 |          0.0000\n",
      "       13 |              26 |          0.0000 |          0.0000\n"
     ]
    },
    {
     "name": "stderr",
     "output_type": "stream",
     "text": [
      "/home/harryting/anaconda3/envs/robothon/lib/python3.10/site-packages/simpleicp/simpleicp.py:331: RuntimeWarning: invalid value encountered in double_scalars\n",
      "  return np.abs((new - old) / old * 100)\n",
      "/home/harryting/anaconda3/envs/robothon/lib/python3.10/site-packages/simpleicp/simpleicp.py:331: RuntimeWarning: invalid value encountered in double_scalars\n",
      "  return np.abs((new - old) / old * 100)\n"
     ]
    },
    {
     "name": "stdout",
     "output_type": "stream",
     "text": [
      "       14 |              26 |          0.0000 |          0.0000\n",
      "       15 |              26 |          0.0000 |          0.0000\n"
     ]
    },
    {
     "name": "stderr",
     "output_type": "stream",
     "text": [
      "/home/harryting/anaconda3/envs/robothon/lib/python3.10/site-packages/simpleicp/simpleicp.py:331: RuntimeWarning: invalid value encountered in double_scalars\n",
      "  return np.abs((new - old) / old * 100)\n",
      "/home/harryting/anaconda3/envs/robothon/lib/python3.10/site-packages/simpleicp/simpleicp.py:331: RuntimeWarning: invalid value encountered in double_scalars\n",
      "  return np.abs((new - old) / old * 100)\n"
     ]
    },
    {
     "name": "stdout",
     "output_type": "stream",
     "text": [
      "       16 |              26 |          0.0000 |          0.0000\n",
      "       17 |              26 |          0.0000 |          0.0000\n"
     ]
    },
    {
     "name": "stderr",
     "output_type": "stream",
     "text": [
      "/home/harryting/anaconda3/envs/robothon/lib/python3.10/site-packages/simpleicp/simpleicp.py:331: RuntimeWarning: invalid value encountered in double_scalars\n",
      "  return np.abs((new - old) / old * 100)\n",
      "/home/harryting/anaconda3/envs/robothon/lib/python3.10/site-packages/simpleicp/simpleicp.py:331: RuntimeWarning: invalid value encountered in double_scalars\n",
      "  return np.abs((new - old) / old * 100)\n"
     ]
    },
    {
     "name": "stdout",
     "output_type": "stream",
     "text": [
      "       18 |              26 |          0.0000 |          0.0000\n",
      "       19 |              26 |          0.0000 |          0.0000\n"
     ]
    },
    {
     "name": "stderr",
     "output_type": "stream",
     "text": [
      "/home/harryting/anaconda3/envs/robothon/lib/python3.10/site-packages/simpleicp/simpleicp.py:331: RuntimeWarning: invalid value encountered in double_scalars\n",
      "  return np.abs((new - old) / old * 100)\n",
      "/home/harryting/anaconda3/envs/robothon/lib/python3.10/site-packages/simpleicp/simpleicp.py:331: RuntimeWarning: invalid value encountered in double_scalars\n",
      "  return np.abs((new - old) / old * 100)\n"
     ]
    },
    {
     "name": "stdout",
     "output_type": "stream",
     "text": [
      "       20 |              26 |          0.0000 |          0.0000\n",
      "       21 |              26 |          0.0000 |          0.0000\n"
     ]
    },
    {
     "name": "stderr",
     "output_type": "stream",
     "text": [
      "/home/harryting/anaconda3/envs/robothon/lib/python3.10/site-packages/simpleicp/simpleicp.py:331: RuntimeWarning: invalid value encountered in double_scalars\n",
      "  return np.abs((new - old) / old * 100)\n",
      "/home/harryting/anaconda3/envs/robothon/lib/python3.10/site-packages/simpleicp/simpleicp.py:331: RuntimeWarning: invalid value encountered in double_scalars\n",
      "  return np.abs((new - old) / old * 100)\n"
     ]
    },
    {
     "name": "stdout",
     "output_type": "stream",
     "text": [
      "       22 |              26 |          0.0000 |          0.0000\n",
      "       23 |              26 |          0.0000 |          0.0000\n"
     ]
    },
    {
     "name": "stderr",
     "output_type": "stream",
     "text": [
      "/home/harryting/anaconda3/envs/robothon/lib/python3.10/site-packages/simpleicp/simpleicp.py:331: RuntimeWarning: invalid value encountered in double_scalars\n",
      "  return np.abs((new - old) / old * 100)\n",
      "/home/harryting/anaconda3/envs/robothon/lib/python3.10/site-packages/simpleicp/simpleicp.py:331: RuntimeWarning: invalid value encountered in double_scalars\n",
      "  return np.abs((new - old) / old * 100)\n"
     ]
    },
    {
     "name": "stdout",
     "output_type": "stream",
     "text": [
      "       24 |              26 |          0.0000 |          0.0000\n",
      "       25 |              26 |          0.0000 |          0.0000\n"
     ]
    },
    {
     "name": "stderr",
     "output_type": "stream",
     "text": [
      "/home/harryting/anaconda3/envs/robothon/lib/python3.10/site-packages/simpleicp/simpleicp.py:331: RuntimeWarning: invalid value encountered in double_scalars\n",
      "  return np.abs((new - old) / old * 100)\n",
      "/home/harryting/anaconda3/envs/robothon/lib/python3.10/site-packages/simpleicp/simpleicp.py:331: RuntimeWarning: invalid value encountered in double_scalars\n",
      "  return np.abs((new - old) / old * 100)\n"
     ]
    },
    {
     "name": "stdout",
     "output_type": "stream",
     "text": [
      "       26 |              26 |          0.0000 |          0.0000\n",
      "       27 |              26 |          0.0000 |          0.0000\n"
     ]
    },
    {
     "name": "stderr",
     "output_type": "stream",
     "text": [
      "/home/harryting/anaconda3/envs/robothon/lib/python3.10/site-packages/simpleicp/simpleicp.py:331: RuntimeWarning: invalid value encountered in double_scalars\n",
      "  return np.abs((new - old) / old * 100)\n",
      "/home/harryting/anaconda3/envs/robothon/lib/python3.10/site-packages/simpleicp/simpleicp.py:331: RuntimeWarning: invalid value encountered in double_scalars\n",
      "  return np.abs((new - old) / old * 100)\n"
     ]
    },
    {
     "name": "stdout",
     "output_type": "stream",
     "text": [
      "       28 |              26 |          0.0000 |          0.0000\n",
      "       29 |              26 |          0.0000 |          0.0000\n"
     ]
    },
    {
     "name": "stderr",
     "output_type": "stream",
     "text": [
      "/home/harryting/anaconda3/envs/robothon/lib/python3.10/site-packages/simpleicp/simpleicp.py:331: RuntimeWarning: invalid value encountered in double_scalars\n",
      "  return np.abs((new - old) / old * 100)\n",
      "/home/harryting/anaconda3/envs/robothon/lib/python3.10/site-packages/simpleicp/simpleicp.py:331: RuntimeWarning: invalid value encountered in double_scalars\n",
      "  return np.abs((new - old) / old * 100)\n"
     ]
    },
    {
     "name": "stdout",
     "output_type": "stream",
     "text": [
      "       30 |              26 |          0.0000 |          0.0000\n",
      "       31 |              26 |          0.0000 |          0.0000\n"
     ]
    },
    {
     "name": "stderr",
     "output_type": "stream",
     "text": [
      "/home/harryting/anaconda3/envs/robothon/lib/python3.10/site-packages/simpleicp/simpleicp.py:331: RuntimeWarning: invalid value encountered in double_scalars\n",
      "  return np.abs((new - old) / old * 100)\n",
      "/home/harryting/anaconda3/envs/robothon/lib/python3.10/site-packages/simpleicp/simpleicp.py:331: RuntimeWarning: invalid value encountered in double_scalars\n",
      "  return np.abs((new - old) / old * 100)\n"
     ]
    },
    {
     "name": "stdout",
     "output_type": "stream",
     "text": [
      "       32 |              26 |          0.0000 |          0.0000\n",
      "       33 |              26 |          0.0000 |          0.0000\n"
     ]
    },
    {
     "name": "stderr",
     "output_type": "stream",
     "text": [
      "/home/harryting/anaconda3/envs/robothon/lib/python3.10/site-packages/simpleicp/simpleicp.py:331: RuntimeWarning: invalid value encountered in double_scalars\n",
      "  return np.abs((new - old) / old * 100)\n",
      "/home/harryting/anaconda3/envs/robothon/lib/python3.10/site-packages/simpleicp/simpleicp.py:331: RuntimeWarning: invalid value encountered in double_scalars\n",
      "  return np.abs((new - old) / old * 100)\n"
     ]
    },
    {
     "name": "stdout",
     "output_type": "stream",
     "text": [
      "       34 |              26 |          0.0000 |          0.0000\n",
      "       35 |              26 |          0.0000 |          0.0000\n"
     ]
    },
    {
     "name": "stderr",
     "output_type": "stream",
     "text": [
      "/home/harryting/anaconda3/envs/robothon/lib/python3.10/site-packages/simpleicp/simpleicp.py:331: RuntimeWarning: invalid value encountered in double_scalars\n",
      "  return np.abs((new - old) / old * 100)\n",
      "/home/harryting/anaconda3/envs/robothon/lib/python3.10/site-packages/simpleicp/simpleicp.py:331: RuntimeWarning: invalid value encountered in double_scalars\n",
      "  return np.abs((new - old) / old * 100)\n"
     ]
    },
    {
     "name": "stdout",
     "output_type": "stream",
     "text": [
      "       36 |              26 |          0.0000 |          0.0000\n",
      "       37 |              26 |          0.0000 |          0.0000\n"
     ]
    },
    {
     "name": "stderr",
     "output_type": "stream",
     "text": [
      "/home/harryting/anaconda3/envs/robothon/lib/python3.10/site-packages/simpleicp/simpleicp.py:331: RuntimeWarning: invalid value encountered in double_scalars\n",
      "  return np.abs((new - old) / old * 100)\n",
      "/home/harryting/anaconda3/envs/robothon/lib/python3.10/site-packages/simpleicp/simpleicp.py:331: RuntimeWarning: invalid value encountered in double_scalars\n",
      "  return np.abs((new - old) / old * 100)\n"
     ]
    },
    {
     "name": "stdout",
     "output_type": "stream",
     "text": [
      "       38 |              26 |          0.0000 |          0.0000\n",
      "       39 |              26 |          0.0000 |          0.0000\n"
     ]
    },
    {
     "name": "stderr",
     "output_type": "stream",
     "text": [
      "/home/harryting/anaconda3/envs/robothon/lib/python3.10/site-packages/simpleicp/simpleicp.py:331: RuntimeWarning: invalid value encountered in double_scalars\n",
      "  return np.abs((new - old) / old * 100)\n",
      "/home/harryting/anaconda3/envs/robothon/lib/python3.10/site-packages/simpleicp/simpleicp.py:331: RuntimeWarning: invalid value encountered in double_scalars\n",
      "  return np.abs((new - old) / old * 100)\n"
     ]
    },
    {
     "name": "stdout",
     "output_type": "stream",
     "text": [
      "       40 |              26 |          0.0000 |          0.0000\n",
      "       41 |              26 |          0.0000 |          0.0000\n"
     ]
    },
    {
     "name": "stderr",
     "output_type": "stream",
     "text": [
      "/home/harryting/anaconda3/envs/robothon/lib/python3.10/site-packages/simpleicp/simpleicp.py:331: RuntimeWarning: invalid value encountered in double_scalars\n",
      "  return np.abs((new - old) / old * 100)\n",
      "/home/harryting/anaconda3/envs/robothon/lib/python3.10/site-packages/simpleicp/simpleicp.py:331: RuntimeWarning: invalid value encountered in double_scalars\n",
      "  return np.abs((new - old) / old * 100)\n"
     ]
    },
    {
     "name": "stdout",
     "output_type": "stream",
     "text": [
      "       42 |              26 |          0.0000 |          0.0000\n",
      "       43 |              26 |          0.0000 |          0.0000\n"
     ]
    },
    {
     "name": "stderr",
     "output_type": "stream",
     "text": [
      "/home/harryting/anaconda3/envs/robothon/lib/python3.10/site-packages/simpleicp/simpleicp.py:331: RuntimeWarning: invalid value encountered in double_scalars\n",
      "  return np.abs((new - old) / old * 100)\n",
      "/home/harryting/anaconda3/envs/robothon/lib/python3.10/site-packages/simpleicp/simpleicp.py:331: RuntimeWarning: invalid value encountered in double_scalars\n",
      "  return np.abs((new - old) / old * 100)\n"
     ]
    },
    {
     "name": "stdout",
     "output_type": "stream",
     "text": [
      "       44 |              26 |          0.0000 |          0.0000\n",
      "       45 |              26 |          0.0000 |          0.0000\n"
     ]
    },
    {
     "name": "stderr",
     "output_type": "stream",
     "text": [
      "/home/harryting/anaconda3/envs/robothon/lib/python3.10/site-packages/simpleicp/simpleicp.py:331: RuntimeWarning: invalid value encountered in double_scalars\n",
      "  return np.abs((new - old) / old * 100)\n",
      "/home/harryting/anaconda3/envs/robothon/lib/python3.10/site-packages/simpleicp/simpleicp.py:331: RuntimeWarning: invalid value encountered in double_scalars\n",
      "  return np.abs((new - old) / old * 100)\n"
     ]
    },
    {
     "name": "stdout",
     "output_type": "stream",
     "text": [
      "       46 |              26 |          0.0000 |          0.0000\n",
      "       47 |              26 |          0.0000 |          0.0000\n"
     ]
    },
    {
     "name": "stderr",
     "output_type": "stream",
     "text": [
      "/home/harryting/anaconda3/envs/robothon/lib/python3.10/site-packages/simpleicp/simpleicp.py:331: RuntimeWarning: invalid value encountered in double_scalars\n",
      "  return np.abs((new - old) / old * 100)\n"
     ]
    },
    {
     "name": "stdout",
     "output_type": "stream",
     "text": [
      "       48 |              26 |          0.0000 |          0.0000\n"
     ]
    },
    {
     "name": "stderr",
     "output_type": "stream",
     "text": [
      "/home/harryting/anaconda3/envs/robothon/lib/python3.10/site-packages/simpleicp/simpleicp.py:331: RuntimeWarning: invalid value encountered in double_scalars\n",
      "  return np.abs((new - old) / old * 100)\n",
      "/home/harryting/anaconda3/envs/robothon/lib/python3.10/site-packages/simpleicp/simpleicp.py:331: RuntimeWarning: invalid value encountered in double_scalars\n",
      "  return np.abs((new - old) / old * 100)\n"
     ]
    },
    {
     "name": "stdout",
     "output_type": "stream",
     "text": [
      "       49 |              26 |          0.0000 |          0.0000\n",
      "       50 |              26 |          0.0000 |          0.0000\n"
     ]
    },
    {
     "name": "stderr",
     "output_type": "stream",
     "text": [
      "/home/harryting/anaconda3/envs/robothon/lib/python3.10/site-packages/simpleicp/simpleicp.py:331: RuntimeWarning: invalid value encountered in double_scalars\n",
      "  return np.abs((new - old) / old * 100)\n",
      "/home/harryting/anaconda3/envs/robothon/lib/python3.10/site-packages/simpleicp/simpleicp.py:331: RuntimeWarning: invalid value encountered in double_scalars\n",
      "  return np.abs((new - old) / old * 100)\n"
     ]
    },
    {
     "name": "stdout",
     "output_type": "stream",
     "text": [
      "       51 |              26 |          0.0000 |          0.0000\n",
      "       52 |              26 |          0.0000 |          0.0000\n"
     ]
    },
    {
     "name": "stderr",
     "output_type": "stream",
     "text": [
      "/home/harryting/anaconda3/envs/robothon/lib/python3.10/site-packages/simpleicp/simpleicp.py:331: RuntimeWarning: invalid value encountered in double_scalars\n",
      "  return np.abs((new - old) / old * 100)\n",
      "/home/harryting/anaconda3/envs/robothon/lib/python3.10/site-packages/simpleicp/simpleicp.py:331: RuntimeWarning: invalid value encountered in double_scalars\n",
      "  return np.abs((new - old) / old * 100)\n"
     ]
    },
    {
     "name": "stdout",
     "output_type": "stream",
     "text": [
      "       53 |              26 |          0.0000 |          0.0000\n",
      "       54 |              26 |          0.0000 |          0.0000\n"
     ]
    },
    {
     "name": "stderr",
     "output_type": "stream",
     "text": [
      "/home/harryting/anaconda3/envs/robothon/lib/python3.10/site-packages/simpleicp/simpleicp.py:331: RuntimeWarning: invalid value encountered in double_scalars\n",
      "  return np.abs((new - old) / old * 100)\n",
      "/home/harryting/anaconda3/envs/robothon/lib/python3.10/site-packages/simpleicp/simpleicp.py:331: RuntimeWarning: invalid value encountered in double_scalars\n",
      "  return np.abs((new - old) / old * 100)\n"
     ]
    },
    {
     "name": "stdout",
     "output_type": "stream",
     "text": [
      "       55 |              26 |          0.0000 |          0.0000\n",
      "       56 |              26 |          0.0000 |          0.0000\n"
     ]
    },
    {
     "name": "stderr",
     "output_type": "stream",
     "text": [
      "/home/harryting/anaconda3/envs/robothon/lib/python3.10/site-packages/simpleicp/simpleicp.py:331: RuntimeWarning: invalid value encountered in double_scalars\n",
      "  return np.abs((new - old) / old * 100)\n",
      "/home/harryting/anaconda3/envs/robothon/lib/python3.10/site-packages/simpleicp/simpleicp.py:331: RuntimeWarning: invalid value encountered in double_scalars\n",
      "  return np.abs((new - old) / old * 100)\n"
     ]
    },
    {
     "name": "stdout",
     "output_type": "stream",
     "text": [
      "       57 |              26 |          0.0000 |          0.0000\n",
      "       58 |              26 |          0.0000 |          0.0000\n"
     ]
    },
    {
     "name": "stderr",
     "output_type": "stream",
     "text": [
      "/home/harryting/anaconda3/envs/robothon/lib/python3.10/site-packages/simpleicp/simpleicp.py:331: RuntimeWarning: invalid value encountered in double_scalars\n",
      "  return np.abs((new - old) / old * 100)\n",
      "/home/harryting/anaconda3/envs/robothon/lib/python3.10/site-packages/simpleicp/simpleicp.py:331: RuntimeWarning: invalid value encountered in double_scalars\n",
      "  return np.abs((new - old) / old * 100)\n"
     ]
    },
    {
     "name": "stdout",
     "output_type": "stream",
     "text": [
      "       59 |              26 |          0.0000 |          0.0000\n",
      "       60 |              26 |          0.0000 |          0.0000\n"
     ]
    },
    {
     "name": "stderr",
     "output_type": "stream",
     "text": [
      "/home/harryting/anaconda3/envs/robothon/lib/python3.10/site-packages/simpleicp/simpleicp.py:331: RuntimeWarning: invalid value encountered in double_scalars\n",
      "  return np.abs((new - old) / old * 100)\n",
      "/home/harryting/anaconda3/envs/robothon/lib/python3.10/site-packages/simpleicp/simpleicp.py:331: RuntimeWarning: invalid value encountered in double_scalars\n",
      "  return np.abs((new - old) / old * 100)\n"
     ]
    },
    {
     "name": "stdout",
     "output_type": "stream",
     "text": [
      "       61 |              26 |          0.0000 |          0.0000\n",
      "       62 |              26 |          0.0000 |          0.0000\n"
     ]
    },
    {
     "name": "stderr",
     "output_type": "stream",
     "text": [
      "/home/harryting/anaconda3/envs/robothon/lib/python3.10/site-packages/simpleicp/simpleicp.py:331: RuntimeWarning: invalid value encountered in double_scalars\n",
      "  return np.abs((new - old) / old * 100)\n",
      "/home/harryting/anaconda3/envs/robothon/lib/python3.10/site-packages/simpleicp/simpleicp.py:331: RuntimeWarning: invalid value encountered in double_scalars\n",
      "  return np.abs((new - old) / old * 100)\n"
     ]
    },
    {
     "name": "stdout",
     "output_type": "stream",
     "text": [
      "       63 |              26 |          0.0000 |          0.0000\n",
      "       64 |              26 |          0.0000 |          0.0000\n"
     ]
    },
    {
     "name": "stderr",
     "output_type": "stream",
     "text": [
      "/home/harryting/anaconda3/envs/robothon/lib/python3.10/site-packages/simpleicp/simpleicp.py:331: RuntimeWarning: invalid value encountered in double_scalars\n",
      "  return np.abs((new - old) / old * 100)\n",
      "/home/harryting/anaconda3/envs/robothon/lib/python3.10/site-packages/simpleicp/simpleicp.py:331: RuntimeWarning: invalid value encountered in double_scalars\n",
      "  return np.abs((new - old) / old * 100)\n"
     ]
    },
    {
     "name": "stdout",
     "output_type": "stream",
     "text": [
      "       65 |              26 |          0.0000 |          0.0000\n",
      "       66 |              26 |          0.0000 |          0.0000\n"
     ]
    },
    {
     "name": "stderr",
     "output_type": "stream",
     "text": [
      "/home/harryting/anaconda3/envs/robothon/lib/python3.10/site-packages/simpleicp/simpleicp.py:331: RuntimeWarning: invalid value encountered in double_scalars\n",
      "  return np.abs((new - old) / old * 100)\n",
      "/home/harryting/anaconda3/envs/robothon/lib/python3.10/site-packages/simpleicp/simpleicp.py:331: RuntimeWarning: invalid value encountered in double_scalars\n",
      "  return np.abs((new - old) / old * 100)\n"
     ]
    },
    {
     "name": "stdout",
     "output_type": "stream",
     "text": [
      "       67 |              26 |          0.0000 |          0.0000\n",
      "       68 |              26 |          0.0000 |          0.0000\n"
     ]
    },
    {
     "name": "stderr",
     "output_type": "stream",
     "text": [
      "/home/harryting/anaconda3/envs/robothon/lib/python3.10/site-packages/simpleicp/simpleicp.py:331: RuntimeWarning: invalid value encountered in double_scalars\n",
      "  return np.abs((new - old) / old * 100)\n",
      "/home/harryting/anaconda3/envs/robothon/lib/python3.10/site-packages/simpleicp/simpleicp.py:331: RuntimeWarning: invalid value encountered in double_scalars\n",
      "  return np.abs((new - old) / old * 100)\n"
     ]
    },
    {
     "name": "stdout",
     "output_type": "stream",
     "text": [
      "       69 |              26 |          0.0000 |          0.0000\n",
      "       70 |              26 |          0.0000 |          0.0000\n"
     ]
    },
    {
     "name": "stderr",
     "output_type": "stream",
     "text": [
      "/home/harryting/anaconda3/envs/robothon/lib/python3.10/site-packages/simpleicp/simpleicp.py:331: RuntimeWarning: invalid value encountered in double_scalars\n",
      "  return np.abs((new - old) / old * 100)\n",
      "/home/harryting/anaconda3/envs/robothon/lib/python3.10/site-packages/simpleicp/simpleicp.py:331: RuntimeWarning: invalid value encountered in double_scalars\n",
      "  return np.abs((new - old) / old * 100)\n"
     ]
    },
    {
     "name": "stdout",
     "output_type": "stream",
     "text": [
      "       71 |              26 |          0.0000 |          0.0000\n",
      "       72 |              26 |          0.0000 |          0.0000\n"
     ]
    },
    {
     "name": "stderr",
     "output_type": "stream",
     "text": [
      "/home/harryting/anaconda3/envs/robothon/lib/python3.10/site-packages/simpleicp/simpleicp.py:331: RuntimeWarning: invalid value encountered in double_scalars\n",
      "  return np.abs((new - old) / old * 100)\n",
      "/home/harryting/anaconda3/envs/robothon/lib/python3.10/site-packages/simpleicp/simpleicp.py:331: RuntimeWarning: invalid value encountered in double_scalars\n",
      "  return np.abs((new - old) / old * 100)\n"
     ]
    },
    {
     "name": "stdout",
     "output_type": "stream",
     "text": [
      "       73 |              26 |          0.0000 |          0.0000\n",
      "       74 |              26 |          0.0000 |          0.0000\n"
     ]
    },
    {
     "name": "stderr",
     "output_type": "stream",
     "text": [
      "/home/harryting/anaconda3/envs/robothon/lib/python3.10/site-packages/simpleicp/simpleicp.py:331: RuntimeWarning: invalid value encountered in double_scalars\n",
      "  return np.abs((new - old) / old * 100)\n",
      "/home/harryting/anaconda3/envs/robothon/lib/python3.10/site-packages/simpleicp/simpleicp.py:331: RuntimeWarning: invalid value encountered in double_scalars\n",
      "  return np.abs((new - old) / old * 100)\n"
     ]
    },
    {
     "name": "stdout",
     "output_type": "stream",
     "text": [
      "       75 |              26 |          0.0000 |          0.0000\n",
      "       76 |              26 |          0.0000 |          0.0000\n"
     ]
    },
    {
     "name": "stderr",
     "output_type": "stream",
     "text": [
      "/home/harryting/anaconda3/envs/robothon/lib/python3.10/site-packages/simpleicp/simpleicp.py:331: RuntimeWarning: invalid value encountered in double_scalars\n",
      "  return np.abs((new - old) / old * 100)\n",
      "/home/harryting/anaconda3/envs/robothon/lib/python3.10/site-packages/simpleicp/simpleicp.py:331: RuntimeWarning: invalid value encountered in double_scalars\n",
      "  return np.abs((new - old) / old * 100)\n"
     ]
    },
    {
     "name": "stdout",
     "output_type": "stream",
     "text": [
      "       77 |              26 |          0.0000 |          0.0000\n",
      "       78 |              26 |          0.0000 |          0.0000\n"
     ]
    },
    {
     "name": "stderr",
     "output_type": "stream",
     "text": [
      "/home/harryting/anaconda3/envs/robothon/lib/python3.10/site-packages/simpleicp/simpleicp.py:331: RuntimeWarning: invalid value encountered in double_scalars\n",
      "  return np.abs((new - old) / old * 100)\n",
      "/home/harryting/anaconda3/envs/robothon/lib/python3.10/site-packages/simpleicp/simpleicp.py:331: RuntimeWarning: invalid value encountered in double_scalars\n",
      "  return np.abs((new - old) / old * 100)\n"
     ]
    },
    {
     "name": "stdout",
     "output_type": "stream",
     "text": [
      "       79 |              26 |          0.0000 |          0.0000\n",
      "       80 |              26 |          0.0000 |          0.0000\n"
     ]
    },
    {
     "name": "stderr",
     "output_type": "stream",
     "text": [
      "/home/harryting/anaconda3/envs/robothon/lib/python3.10/site-packages/simpleicp/simpleicp.py:331: RuntimeWarning: invalid value encountered in double_scalars\n",
      "  return np.abs((new - old) / old * 100)\n",
      "/home/harryting/anaconda3/envs/robothon/lib/python3.10/site-packages/simpleicp/simpleicp.py:331: RuntimeWarning: invalid value encountered in double_scalars\n",
      "  return np.abs((new - old) / old * 100)\n"
     ]
    },
    {
     "name": "stdout",
     "output_type": "stream",
     "text": [
      "       81 |              26 |          0.0000 |          0.0000\n",
      "       82 |              26 |          0.0000 |          0.0000\n"
     ]
    },
    {
     "name": "stderr",
     "output_type": "stream",
     "text": [
      "/home/harryting/anaconda3/envs/robothon/lib/python3.10/site-packages/simpleicp/simpleicp.py:331: RuntimeWarning: invalid value encountered in double_scalars\n",
      "  return np.abs((new - old) / old * 100)\n",
      "/home/harryting/anaconda3/envs/robothon/lib/python3.10/site-packages/simpleicp/simpleicp.py:331: RuntimeWarning: invalid value encountered in double_scalars\n",
      "  return np.abs((new - old) / old * 100)\n"
     ]
    },
    {
     "name": "stdout",
     "output_type": "stream",
     "text": [
      "       83 |              26 |          0.0000 |          0.0000\n",
      "       84 |              26 |          0.0000 |          0.0000\n"
     ]
    },
    {
     "name": "stderr",
     "output_type": "stream",
     "text": [
      "/home/harryting/anaconda3/envs/robothon/lib/python3.10/site-packages/simpleicp/simpleicp.py:331: RuntimeWarning: invalid value encountered in double_scalars\n",
      "  return np.abs((new - old) / old * 100)\n",
      "/home/harryting/anaconda3/envs/robothon/lib/python3.10/site-packages/simpleicp/simpleicp.py:331: RuntimeWarning: invalid value encountered in double_scalars\n",
      "  return np.abs((new - old) / old * 100)\n"
     ]
    },
    {
     "name": "stdout",
     "output_type": "stream",
     "text": [
      "       85 |              26 |          0.0000 |          0.0000\n",
      "       86 |              26 |          0.0000 |          0.0000\n"
     ]
    },
    {
     "name": "stderr",
     "output_type": "stream",
     "text": [
      "/home/harryting/anaconda3/envs/robothon/lib/python3.10/site-packages/simpleicp/simpleicp.py:331: RuntimeWarning: invalid value encountered in double_scalars\n",
      "  return np.abs((new - old) / old * 100)\n",
      "/home/harryting/anaconda3/envs/robothon/lib/python3.10/site-packages/simpleicp/simpleicp.py:331: RuntimeWarning: invalid value encountered in double_scalars\n",
      "  return np.abs((new - old) / old * 100)\n"
     ]
    },
    {
     "name": "stdout",
     "output_type": "stream",
     "text": [
      "       87 |              26 |          0.0000 |          0.0000\n",
      "       88 |              26 |          0.0000 |          0.0000\n"
     ]
    },
    {
     "name": "stderr",
     "output_type": "stream",
     "text": [
      "/home/harryting/anaconda3/envs/robothon/lib/python3.10/site-packages/simpleicp/simpleicp.py:331: RuntimeWarning: invalid value encountered in double_scalars\n",
      "  return np.abs((new - old) / old * 100)\n",
      "/home/harryting/anaconda3/envs/robothon/lib/python3.10/site-packages/simpleicp/simpleicp.py:331: RuntimeWarning: invalid value encountered in double_scalars\n",
      "  return np.abs((new - old) / old * 100)\n"
     ]
    },
    {
     "name": "stdout",
     "output_type": "stream",
     "text": [
      "       89 |              26 |          0.0000 |          0.0000\n",
      "       90 |              26 |          0.0000 |          0.0000\n"
     ]
    },
    {
     "name": "stderr",
     "output_type": "stream",
     "text": [
      "/home/harryting/anaconda3/envs/robothon/lib/python3.10/site-packages/simpleicp/simpleicp.py:331: RuntimeWarning: invalid value encountered in double_scalars\n",
      "  return np.abs((new - old) / old * 100)\n",
      "/home/harryting/anaconda3/envs/robothon/lib/python3.10/site-packages/simpleicp/simpleicp.py:331: RuntimeWarning: invalid value encountered in double_scalars\n",
      "  return np.abs((new - old) / old * 100)\n"
     ]
    },
    {
     "name": "stdout",
     "output_type": "stream",
     "text": [
      "       91 |              26 |          0.0000 |          0.0000\n",
      "       92 |              26 |          0.0000 |          0.0000\n"
     ]
    },
    {
     "name": "stderr",
     "output_type": "stream",
     "text": [
      "/home/harryting/anaconda3/envs/robothon/lib/python3.10/site-packages/simpleicp/simpleicp.py:331: RuntimeWarning: invalid value encountered in double_scalars\n",
      "  return np.abs((new - old) / old * 100)\n",
      "/home/harryting/anaconda3/envs/robothon/lib/python3.10/site-packages/simpleicp/simpleicp.py:331: RuntimeWarning: invalid value encountered in double_scalars\n",
      "  return np.abs((new - old) / old * 100)\n"
     ]
    },
    {
     "name": "stdout",
     "output_type": "stream",
     "text": [
      "       93 |              26 |          0.0000 |          0.0000\n",
      "       94 |              26 |          0.0000 |          0.0000\n"
     ]
    },
    {
     "name": "stderr",
     "output_type": "stream",
     "text": [
      "/home/harryting/anaconda3/envs/robothon/lib/python3.10/site-packages/simpleicp/simpleicp.py:331: RuntimeWarning: invalid value encountered in double_scalars\n",
      "  return np.abs((new - old) / old * 100)\n",
      "/home/harryting/anaconda3/envs/robothon/lib/python3.10/site-packages/simpleicp/simpleicp.py:331: RuntimeWarning: invalid value encountered in double_scalars\n",
      "  return np.abs((new - old) / old * 100)\n"
     ]
    },
    {
     "name": "stdout",
     "output_type": "stream",
     "text": [
      "       95 |              26 |          0.0000 |          0.0000\n",
      "       96 |              26 |          0.0000 |          0.0000\n"
     ]
    },
    {
     "name": "stderr",
     "output_type": "stream",
     "text": [
      "/home/harryting/anaconda3/envs/robothon/lib/python3.10/site-packages/simpleicp/simpleicp.py:331: RuntimeWarning: invalid value encountered in double_scalars\n",
      "  return np.abs((new - old) / old * 100)\n"
     ]
    },
    {
     "name": "stdout",
     "output_type": "stream",
     "text": [
      "       97 |              26 |          0.0000 |          0.0000\n"
     ]
    },
    {
     "name": "stderr",
     "output_type": "stream",
     "text": [
      "/home/harryting/anaconda3/envs/robothon/lib/python3.10/site-packages/simpleicp/simpleicp.py:331: RuntimeWarning: invalid value encountered in double_scalars\n",
      "  return np.abs((new - old) / old * 100)\n",
      "/home/harryting/anaconda3/envs/robothon/lib/python3.10/site-packages/simpleicp/simpleicp.py:331: RuntimeWarning: invalid value encountered in double_scalars\n",
      "  return np.abs((new - old) / old * 100)\n"
     ]
    },
    {
     "name": "stdout",
     "output_type": "stream",
     "text": [
      "       98 |              26 |          0.0000 |          0.0000\n",
      "       99 |              26 |          0.0000 |          0.0000\n",
      "      100 |              26 |          0.0000 |          0.0000\n",
      "Estimated transformation matrix H:\n",
      "[    1.000000    -0.000000     0.000000     0.000000]\n",
      "[    0.000000     1.000000    -0.000000     0.000000]\n",
      "[    0.000000     0.000000     1.000000     0.000000]\n",
      "[    0.000000     0.000000     0.000000     1.000000]\n",
      "... which corresponds to the following rigid-body transformation parameters:\n",
      "parameter |       est.value | est.uncertainty |       obs.value |      obs.weight\n",
      "   alpha1 |        0.000000 |             nan |        0.000000 |       0.000e+00\n",
      "   alpha2 |        0.000000 |             nan |        0.000000 |       0.000e+00\n",
      "   alpha3 |        0.000000 |             nan |        0.000000 |       0.000e+00\n",
      "       tx |        0.000000 |             nan |        0.000000 |       0.000e+00\n",
      "       ty |        0.000000 |             nan |        0.000000 |       0.000e+00\n",
      "       tz |        0.000000 |             nan |        0.000000 |       0.000e+00\n",
      "(Unit of est.value, est.uncertainty, and obs.value for alpha1/2/3 is degree)\n",
      "Finished in 14.625 seconds!\n"
     ]
    },
    {
     "name": "stderr",
     "output_type": "stream",
     "text": [
      "/home/harryting/anaconda3/envs/robothon/lib/python3.10/site-packages/simpleicp/simpleicp.py:331: RuntimeWarning: invalid value encountered in double_scalars\n",
      "  return np.abs((new - old) / old * 100)\n"
     ]
    },
    {
     "data": {
      "text/plain": [
       "array([[ 1., -0.,  0.,  0.],\n",
       "       [ 0.,  1., -0.,  0.],\n",
       "       [ 0.,  0.,  1.,  0.],\n",
       "       [ 0.,  0.,  0.,  1.]])"
      ]
     },
     "execution_count": 8,
     "metadata": {},
     "output_type": "execute_result"
    }
   ],
   "source": [
    "icp_coord(coords_3d, coords_3d)"
   ]
  },
  {
   "cell_type": "code",
   "execution_count": 9,
   "id": "ee2af725",
   "metadata": {},
   "outputs": [
    {
     "data": {
      "text/plain": [
       "(48, 3)"
      ]
     },
     "execution_count": 9,
     "metadata": {},
     "output_type": "execute_result"
    }
   ],
   "source": [
    "np.shape(coords_3d)"
   ]
  },
  {
   "cell_type": "code",
   "execution_count": 26,
   "id": "95685dec",
   "metadata": {},
   "outputs": [],
   "source": [
    "coords_3d_part = coords_3d[np.logical_and(coords_3d[:, 0] > 300, coords_3d[:, 0] < 500)]\n",
    "coords_3d_part[:, 0] = coords_3d_part[:, 0] + 5\n",
    "coords_3d_part[:, 1] = coords_3d_part[:, 1] + 10"
   ]
  },
  {
   "cell_type": "code",
   "execution_count": 31,
   "id": "105155a6",
   "metadata": {},
   "outputs": [
    {
     "name": "stdout",
     "output_type": "stream",
     "text": [
      "Consider partial overlap of point clouds ...\n",
      "Select points for correspondences in fixed point cloud ...\n",
      "Estimate normals of selected points ...\n",
      "Start iterations ...\n",
      "iteration | correspondences | mean(residuals) |  std(residuals)\n",
      "   orig:0 |              17 |          0.0000 |          0.0000\n",
      "        1 |              16 |          0.0000 |          0.0000\n"
     ]
    },
    {
     "name": "stderr",
     "output_type": "stream",
     "text": [
      "/home/harryting/anaconda3/envs/robothon/lib/python3.10/site-packages/simpleicp/simpleicp.py:331: RuntimeWarning: invalid value encountered in double_scalars\n",
      "  return np.abs((new - old) / old * 100)\n",
      "/home/harryting/anaconda3/envs/robothon/lib/python3.10/site-packages/simpleicp/simpleicp.py:331: RuntimeWarning: invalid value encountered in double_scalars\n",
      "  return np.abs((new - old) / old * 100)\n"
     ]
    },
    {
     "name": "stdout",
     "output_type": "stream",
     "text": [
      "        2 |              16 |          0.0000 |          0.0000\n",
      "        3 |              16 |          0.0000 |          0.0000\n"
     ]
    },
    {
     "name": "stderr",
     "output_type": "stream",
     "text": [
      "/home/harryting/anaconda3/envs/robothon/lib/python3.10/site-packages/simpleicp/simpleicp.py:331: RuntimeWarning: invalid value encountered in double_scalars\n",
      "  return np.abs((new - old) / old * 100)\n",
      "/home/harryting/anaconda3/envs/robothon/lib/python3.10/site-packages/simpleicp/simpleicp.py:331: RuntimeWarning: invalid value encountered in double_scalars\n",
      "  return np.abs((new - old) / old * 100)\n"
     ]
    },
    {
     "name": "stdout",
     "output_type": "stream",
     "text": [
      "        4 |              16 |          0.0000 |          0.0000\n",
      "        5 |              16 |          0.0000 |          0.0000\n"
     ]
    },
    {
     "name": "stderr",
     "output_type": "stream",
     "text": [
      "/home/harryting/anaconda3/envs/robothon/lib/python3.10/site-packages/simpleicp/simpleicp.py:331: RuntimeWarning: invalid value encountered in double_scalars\n",
      "  return np.abs((new - old) / old * 100)\n",
      "/home/harryting/anaconda3/envs/robothon/lib/python3.10/site-packages/simpleicp/simpleicp.py:331: RuntimeWarning: invalid value encountered in double_scalars\n",
      "  return np.abs((new - old) / old * 100)\n"
     ]
    },
    {
     "name": "stdout",
     "output_type": "stream",
     "text": [
      "        6 |              16 |          0.0000 |          0.0000\n",
      "        7 |              16 |          0.0000 |          0.0000\n"
     ]
    },
    {
     "name": "stderr",
     "output_type": "stream",
     "text": [
      "/home/harryting/anaconda3/envs/robothon/lib/python3.10/site-packages/simpleicp/simpleicp.py:331: RuntimeWarning: invalid value encountered in double_scalars\n",
      "  return np.abs((new - old) / old * 100)\n",
      "/home/harryting/anaconda3/envs/robothon/lib/python3.10/site-packages/simpleicp/simpleicp.py:331: RuntimeWarning: invalid value encountered in double_scalars\n",
      "  return np.abs((new - old) / old * 100)\n"
     ]
    },
    {
     "name": "stdout",
     "output_type": "stream",
     "text": [
      "        8 |              16 |          0.0000 |          0.0000\n",
      "        9 |              16 |          0.0000 |          0.0000\n"
     ]
    },
    {
     "name": "stderr",
     "output_type": "stream",
     "text": [
      "/home/harryting/anaconda3/envs/robothon/lib/python3.10/site-packages/simpleicp/simpleicp.py:331: RuntimeWarning: invalid value encountered in double_scalars\n",
      "  return np.abs((new - old) / old * 100)\n",
      "/home/harryting/anaconda3/envs/robothon/lib/python3.10/site-packages/simpleicp/simpleicp.py:331: RuntimeWarning: invalid value encountered in double_scalars\n",
      "  return np.abs((new - old) / old * 100)\n"
     ]
    },
    {
     "name": "stdout",
     "output_type": "stream",
     "text": [
      "       10 |              16 |          0.0000 |          0.0000\n",
      "       11 |              16 |          0.0000 |          0.0000\n"
     ]
    },
    {
     "name": "stderr",
     "output_type": "stream",
     "text": [
      "/home/harryting/anaconda3/envs/robothon/lib/python3.10/site-packages/simpleicp/simpleicp.py:331: RuntimeWarning: invalid value encountered in double_scalars\n",
      "  return np.abs((new - old) / old * 100)\n",
      "/home/harryting/anaconda3/envs/robothon/lib/python3.10/site-packages/simpleicp/simpleicp.py:331: RuntimeWarning: invalid value encountered in double_scalars\n",
      "  return np.abs((new - old) / old * 100)\n"
     ]
    },
    {
     "name": "stdout",
     "output_type": "stream",
     "text": [
      "       12 |              16 |          0.0000 |          0.0000\n",
      "       13 |              16 |          0.0000 |          0.0000\n"
     ]
    },
    {
     "name": "stderr",
     "output_type": "stream",
     "text": [
      "/home/harryting/anaconda3/envs/robothon/lib/python3.10/site-packages/simpleicp/simpleicp.py:331: RuntimeWarning: invalid value encountered in double_scalars\n",
      "  return np.abs((new - old) / old * 100)\n",
      "/home/harryting/anaconda3/envs/robothon/lib/python3.10/site-packages/simpleicp/simpleicp.py:331: RuntimeWarning: invalid value encountered in double_scalars\n",
      "  return np.abs((new - old) / old * 100)\n"
     ]
    },
    {
     "name": "stdout",
     "output_type": "stream",
     "text": [
      "       14 |              16 |          0.0000 |          0.0000\n",
      "       15 |              16 |          0.0000 |          0.0000\n"
     ]
    },
    {
     "name": "stderr",
     "output_type": "stream",
     "text": [
      "/home/harryting/anaconda3/envs/robothon/lib/python3.10/site-packages/simpleicp/simpleicp.py:331: RuntimeWarning: invalid value encountered in double_scalars\n",
      "  return np.abs((new - old) / old * 100)\n",
      "/home/harryting/anaconda3/envs/robothon/lib/python3.10/site-packages/simpleicp/simpleicp.py:331: RuntimeWarning: invalid value encountered in double_scalars\n",
      "  return np.abs((new - old) / old * 100)\n"
     ]
    },
    {
     "name": "stdout",
     "output_type": "stream",
     "text": [
      "       16 |              16 |          0.0000 |          0.0000\n",
      "       17 |              16 |          0.0000 |          0.0000\n"
     ]
    },
    {
     "name": "stderr",
     "output_type": "stream",
     "text": [
      "/home/harryting/anaconda3/envs/robothon/lib/python3.10/site-packages/simpleicp/simpleicp.py:331: RuntimeWarning: invalid value encountered in double_scalars\n",
      "  return np.abs((new - old) / old * 100)\n",
      "/home/harryting/anaconda3/envs/robothon/lib/python3.10/site-packages/simpleicp/simpleicp.py:331: RuntimeWarning: invalid value encountered in double_scalars\n",
      "  return np.abs((new - old) / old * 100)\n"
     ]
    },
    {
     "name": "stdout",
     "output_type": "stream",
     "text": [
      "       18 |              16 |          0.0000 |          0.0000\n",
      "       19 |              16 |          0.0000 |          0.0000\n"
     ]
    },
    {
     "name": "stderr",
     "output_type": "stream",
     "text": [
      "/home/harryting/anaconda3/envs/robothon/lib/python3.10/site-packages/simpleicp/simpleicp.py:331: RuntimeWarning: invalid value encountered in double_scalars\n",
      "  return np.abs((new - old) / old * 100)\n",
      "/home/harryting/anaconda3/envs/robothon/lib/python3.10/site-packages/simpleicp/simpleicp.py:331: RuntimeWarning: invalid value encountered in double_scalars\n",
      "  return np.abs((new - old) / old * 100)\n"
     ]
    },
    {
     "name": "stdout",
     "output_type": "stream",
     "text": [
      "       20 |              16 |          0.0000 |          0.0000\n",
      "       21 |              16 |          0.0000 |          0.0000\n"
     ]
    },
    {
     "name": "stderr",
     "output_type": "stream",
     "text": [
      "/home/harryting/anaconda3/envs/robothon/lib/python3.10/site-packages/simpleicp/simpleicp.py:331: RuntimeWarning: invalid value encountered in double_scalars\n",
      "  return np.abs((new - old) / old * 100)\n",
      "/home/harryting/anaconda3/envs/robothon/lib/python3.10/site-packages/simpleicp/simpleicp.py:331: RuntimeWarning: invalid value encountered in double_scalars\n",
      "  return np.abs((new - old) / old * 100)\n"
     ]
    },
    {
     "name": "stdout",
     "output_type": "stream",
     "text": [
      "       22 |              16 |          0.0000 |          0.0000\n",
      "       23 |              16 |          0.0000 |          0.0000\n"
     ]
    },
    {
     "name": "stderr",
     "output_type": "stream",
     "text": [
      "/home/harryting/anaconda3/envs/robothon/lib/python3.10/site-packages/simpleicp/simpleicp.py:331: RuntimeWarning: invalid value encountered in double_scalars\n",
      "  return np.abs((new - old) / old * 100)\n",
      "/home/harryting/anaconda3/envs/robothon/lib/python3.10/site-packages/simpleicp/simpleicp.py:331: RuntimeWarning: invalid value encountered in double_scalars\n",
      "  return np.abs((new - old) / old * 100)\n"
     ]
    },
    {
     "name": "stdout",
     "output_type": "stream",
     "text": [
      "       24 |              16 |          0.0000 |          0.0000\n",
      "       25 |              16 |          0.0000 |          0.0000\n"
     ]
    },
    {
     "name": "stderr",
     "output_type": "stream",
     "text": [
      "/home/harryting/anaconda3/envs/robothon/lib/python3.10/site-packages/simpleicp/simpleicp.py:331: RuntimeWarning: invalid value encountered in double_scalars\n",
      "  return np.abs((new - old) / old * 100)\n",
      "/home/harryting/anaconda3/envs/robothon/lib/python3.10/site-packages/simpleicp/simpleicp.py:331: RuntimeWarning: invalid value encountered in double_scalars\n",
      "  return np.abs((new - old) / old * 100)\n"
     ]
    },
    {
     "name": "stdout",
     "output_type": "stream",
     "text": [
      "       26 |              16 |          0.0000 |          0.0000\n",
      "       27 |              16 |          0.0000 |          0.0000\n"
     ]
    },
    {
     "name": "stderr",
     "output_type": "stream",
     "text": [
      "/home/harryting/anaconda3/envs/robothon/lib/python3.10/site-packages/simpleicp/simpleicp.py:331: RuntimeWarning: invalid value encountered in double_scalars\n",
      "  return np.abs((new - old) / old * 100)\n"
     ]
    },
    {
     "name": "stdout",
     "output_type": "stream",
     "text": [
      "       28 |              16 |          0.0000 |          0.0000\n"
     ]
    },
    {
     "name": "stderr",
     "output_type": "stream",
     "text": [
      "/home/harryting/anaconda3/envs/robothon/lib/python3.10/site-packages/simpleicp/simpleicp.py:331: RuntimeWarning: invalid value encountered in double_scalars\n",
      "  return np.abs((new - old) / old * 100)\n",
      "/home/harryting/anaconda3/envs/robothon/lib/python3.10/site-packages/simpleicp/simpleicp.py:331: RuntimeWarning: invalid value encountered in double_scalars\n",
      "  return np.abs((new - old) / old * 100)\n"
     ]
    },
    {
     "name": "stdout",
     "output_type": "stream",
     "text": [
      "       29 |              16 |          0.0000 |          0.0000\n",
      "       30 |              16 |          0.0000 |          0.0000\n"
     ]
    },
    {
     "name": "stderr",
     "output_type": "stream",
     "text": [
      "/home/harryting/anaconda3/envs/robothon/lib/python3.10/site-packages/simpleicp/simpleicp.py:331: RuntimeWarning: invalid value encountered in double_scalars\n",
      "  return np.abs((new - old) / old * 100)\n",
      "/home/harryting/anaconda3/envs/robothon/lib/python3.10/site-packages/simpleicp/simpleicp.py:331: RuntimeWarning: invalid value encountered in double_scalars\n",
      "  return np.abs((new - old) / old * 100)\n"
     ]
    },
    {
     "name": "stdout",
     "output_type": "stream",
     "text": [
      "       31 |              16 |          0.0000 |          0.0000\n",
      "       32 |              16 |          0.0000 |          0.0000\n"
     ]
    },
    {
     "name": "stderr",
     "output_type": "stream",
     "text": [
      "/home/harryting/anaconda3/envs/robothon/lib/python3.10/site-packages/simpleicp/simpleicp.py:331: RuntimeWarning: invalid value encountered in double_scalars\n",
      "  return np.abs((new - old) / old * 100)\n"
     ]
    },
    {
     "name": "stdout",
     "output_type": "stream",
     "text": [
      "       33 |              16 |          0.0000 |          0.0000\n"
     ]
    },
    {
     "name": "stderr",
     "output_type": "stream",
     "text": [
      "/home/harryting/anaconda3/envs/robothon/lib/python3.10/site-packages/simpleicp/simpleicp.py:331: RuntimeWarning: invalid value encountered in double_scalars\n",
      "  return np.abs((new - old) / old * 100)\n",
      "/home/harryting/anaconda3/envs/robothon/lib/python3.10/site-packages/simpleicp/simpleicp.py:331: RuntimeWarning: invalid value encountered in double_scalars\n",
      "  return np.abs((new - old) / old * 100)\n"
     ]
    },
    {
     "name": "stdout",
     "output_type": "stream",
     "text": [
      "       34 |              16 |          0.0000 |          0.0000\n",
      "       35 |              16 |          0.0000 |          0.0000\n"
     ]
    },
    {
     "name": "stderr",
     "output_type": "stream",
     "text": [
      "/home/harryting/anaconda3/envs/robothon/lib/python3.10/site-packages/simpleicp/simpleicp.py:331: RuntimeWarning: invalid value encountered in double_scalars\n",
      "  return np.abs((new - old) / old * 100)\n",
      "/home/harryting/anaconda3/envs/robothon/lib/python3.10/site-packages/simpleicp/simpleicp.py:331: RuntimeWarning: invalid value encountered in double_scalars\n",
      "  return np.abs((new - old) / old * 100)\n"
     ]
    },
    {
     "name": "stdout",
     "output_type": "stream",
     "text": [
      "       36 |              16 |          0.0000 |          0.0000\n",
      "       37 |              16 |          0.0000 |          0.0000\n"
     ]
    },
    {
     "name": "stderr",
     "output_type": "stream",
     "text": [
      "/home/harryting/anaconda3/envs/robothon/lib/python3.10/site-packages/simpleicp/simpleicp.py:331: RuntimeWarning: invalid value encountered in double_scalars\n",
      "  return np.abs((new - old) / old * 100)\n",
      "/home/harryting/anaconda3/envs/robothon/lib/python3.10/site-packages/simpleicp/simpleicp.py:331: RuntimeWarning: invalid value encountered in double_scalars\n",
      "  return np.abs((new - old) / old * 100)\n"
     ]
    },
    {
     "name": "stdout",
     "output_type": "stream",
     "text": [
      "       38 |              16 |          0.0000 |          0.0000\n",
      "       39 |              16 |          0.0000 |          0.0000\n"
     ]
    },
    {
     "name": "stderr",
     "output_type": "stream",
     "text": [
      "/home/harryting/anaconda3/envs/robothon/lib/python3.10/site-packages/simpleicp/simpleicp.py:331: RuntimeWarning: invalid value encountered in double_scalars\n",
      "  return np.abs((new - old) / old * 100)\n",
      "/home/harryting/anaconda3/envs/robothon/lib/python3.10/site-packages/simpleicp/simpleicp.py:331: RuntimeWarning: invalid value encountered in double_scalars\n",
      "  return np.abs((new - old) / old * 100)\n"
     ]
    },
    {
     "name": "stdout",
     "output_type": "stream",
     "text": [
      "       40 |              16 |          0.0000 |          0.0000\n",
      "       41 |              16 |          0.0000 |          0.0000\n"
     ]
    },
    {
     "name": "stderr",
     "output_type": "stream",
     "text": [
      "/home/harryting/anaconda3/envs/robothon/lib/python3.10/site-packages/simpleicp/simpleicp.py:331: RuntimeWarning: invalid value encountered in double_scalars\n",
      "  return np.abs((new - old) / old * 100)\n",
      "/home/harryting/anaconda3/envs/robothon/lib/python3.10/site-packages/simpleicp/simpleicp.py:331: RuntimeWarning: invalid value encountered in double_scalars\n",
      "  return np.abs((new - old) / old * 100)\n"
     ]
    },
    {
     "name": "stdout",
     "output_type": "stream",
     "text": [
      "       42 |              16 |          0.0000 |          0.0000\n",
      "       43 |              16 |          0.0000 |          0.0000\n"
     ]
    },
    {
     "name": "stderr",
     "output_type": "stream",
     "text": [
      "/home/harryting/anaconda3/envs/robothon/lib/python3.10/site-packages/simpleicp/simpleicp.py:331: RuntimeWarning: invalid value encountered in double_scalars\n",
      "  return np.abs((new - old) / old * 100)\n",
      "/home/harryting/anaconda3/envs/robothon/lib/python3.10/site-packages/simpleicp/simpleicp.py:331: RuntimeWarning: invalid value encountered in double_scalars\n",
      "  return np.abs((new - old) / old * 100)\n"
     ]
    },
    {
     "name": "stdout",
     "output_type": "stream",
     "text": [
      "       44 |              16 |          0.0000 |          0.0000\n",
      "       45 |              16 |          0.0000 |          0.0000\n"
     ]
    },
    {
     "name": "stderr",
     "output_type": "stream",
     "text": [
      "/home/harryting/anaconda3/envs/robothon/lib/python3.10/site-packages/simpleicp/simpleicp.py:331: RuntimeWarning: invalid value encountered in double_scalars\n",
      "  return np.abs((new - old) / old * 100)\n",
      "/home/harryting/anaconda3/envs/robothon/lib/python3.10/site-packages/simpleicp/simpleicp.py:331: RuntimeWarning: invalid value encountered in double_scalars\n",
      "  return np.abs((new - old) / old * 100)\n"
     ]
    },
    {
     "name": "stdout",
     "output_type": "stream",
     "text": [
      "       46 |              16 |          0.0000 |          0.0000\n",
      "       47 |              16 |          0.0000 |          0.0000\n"
     ]
    },
    {
     "name": "stderr",
     "output_type": "stream",
     "text": [
      "/home/harryting/anaconda3/envs/robothon/lib/python3.10/site-packages/simpleicp/simpleicp.py:331: RuntimeWarning: invalid value encountered in double_scalars\n",
      "  return np.abs((new - old) / old * 100)\n",
      "/home/harryting/anaconda3/envs/robothon/lib/python3.10/site-packages/simpleicp/simpleicp.py:331: RuntimeWarning: invalid value encountered in double_scalars\n",
      "  return np.abs((new - old) / old * 100)\n"
     ]
    },
    {
     "name": "stdout",
     "output_type": "stream",
     "text": [
      "       48 |              16 |          0.0000 |          0.0000\n",
      "       49 |              16 |          0.0000 |          0.0000\n"
     ]
    },
    {
     "name": "stderr",
     "output_type": "stream",
     "text": [
      "/home/harryting/anaconda3/envs/robothon/lib/python3.10/site-packages/simpleicp/simpleicp.py:331: RuntimeWarning: invalid value encountered in double_scalars\n",
      "  return np.abs((new - old) / old * 100)\n",
      "/home/harryting/anaconda3/envs/robothon/lib/python3.10/site-packages/simpleicp/simpleicp.py:331: RuntimeWarning: invalid value encountered in double_scalars\n",
      "  return np.abs((new - old) / old * 100)\n"
     ]
    },
    {
     "name": "stdout",
     "output_type": "stream",
     "text": [
      "       50 |              16 |          0.0000 |          0.0000\n",
      "       51 |              16 |          0.0000 |          0.0000\n"
     ]
    },
    {
     "name": "stderr",
     "output_type": "stream",
     "text": [
      "/home/harryting/anaconda3/envs/robothon/lib/python3.10/site-packages/simpleicp/simpleicp.py:331: RuntimeWarning: invalid value encountered in double_scalars\n",
      "  return np.abs((new - old) / old * 100)\n",
      "/home/harryting/anaconda3/envs/robothon/lib/python3.10/site-packages/simpleicp/simpleicp.py:331: RuntimeWarning: invalid value encountered in double_scalars\n",
      "  return np.abs((new - old) / old * 100)\n"
     ]
    },
    {
     "name": "stdout",
     "output_type": "stream",
     "text": [
      "       52 |              16 |          0.0000 |          0.0000\n",
      "       53 |              16 |          0.0000 |          0.0000\n"
     ]
    },
    {
     "name": "stderr",
     "output_type": "stream",
     "text": [
      "/home/harryting/anaconda3/envs/robothon/lib/python3.10/site-packages/simpleicp/simpleicp.py:331: RuntimeWarning: invalid value encountered in double_scalars\n",
      "  return np.abs((new - old) / old * 100)\n",
      "/home/harryting/anaconda3/envs/robothon/lib/python3.10/site-packages/simpleicp/simpleicp.py:331: RuntimeWarning: invalid value encountered in double_scalars\n",
      "  return np.abs((new - old) / old * 100)\n"
     ]
    },
    {
     "name": "stdout",
     "output_type": "stream",
     "text": [
      "       54 |              16 |          0.0000 |          0.0000\n",
      "       55 |              16 |          0.0000 |          0.0000\n"
     ]
    },
    {
     "name": "stderr",
     "output_type": "stream",
     "text": [
      "/home/harryting/anaconda3/envs/robothon/lib/python3.10/site-packages/simpleicp/simpleicp.py:331: RuntimeWarning: invalid value encountered in double_scalars\n",
      "  return np.abs((new - old) / old * 100)\n",
      "/home/harryting/anaconda3/envs/robothon/lib/python3.10/site-packages/simpleicp/simpleicp.py:331: RuntimeWarning: invalid value encountered in double_scalars\n",
      "  return np.abs((new - old) / old * 100)\n"
     ]
    },
    {
     "name": "stdout",
     "output_type": "stream",
     "text": [
      "       56 |              16 |          0.0000 |          0.0000\n",
      "       57 |              16 |          0.0000 |          0.0000\n"
     ]
    },
    {
     "name": "stderr",
     "output_type": "stream",
     "text": [
      "/home/harryting/anaconda3/envs/robothon/lib/python3.10/site-packages/simpleicp/simpleicp.py:331: RuntimeWarning: invalid value encountered in double_scalars\n",
      "  return np.abs((new - old) / old * 100)\n",
      "/home/harryting/anaconda3/envs/robothon/lib/python3.10/site-packages/simpleicp/simpleicp.py:331: RuntimeWarning: invalid value encountered in double_scalars\n",
      "  return np.abs((new - old) / old * 100)\n"
     ]
    },
    {
     "name": "stdout",
     "output_type": "stream",
     "text": [
      "       58 |              16 |          0.0000 |          0.0000\n",
      "       59 |              16 |          0.0000 |          0.0000\n"
     ]
    },
    {
     "name": "stderr",
     "output_type": "stream",
     "text": [
      "/home/harryting/anaconda3/envs/robothon/lib/python3.10/site-packages/simpleicp/simpleicp.py:331: RuntimeWarning: invalid value encountered in double_scalars\n",
      "  return np.abs((new - old) / old * 100)\n",
      "/home/harryting/anaconda3/envs/robothon/lib/python3.10/site-packages/simpleicp/simpleicp.py:331: RuntimeWarning: invalid value encountered in double_scalars\n",
      "  return np.abs((new - old) / old * 100)\n"
     ]
    },
    {
     "name": "stdout",
     "output_type": "stream",
     "text": [
      "       60 |              16 |          0.0000 |          0.0000\n",
      "       61 |              16 |          0.0000 |          0.0000\n"
     ]
    },
    {
     "name": "stderr",
     "output_type": "stream",
     "text": [
      "/home/harryting/anaconda3/envs/robothon/lib/python3.10/site-packages/simpleicp/simpleicp.py:331: RuntimeWarning: invalid value encountered in double_scalars\n",
      "  return np.abs((new - old) / old * 100)\n",
      "/home/harryting/anaconda3/envs/robothon/lib/python3.10/site-packages/simpleicp/simpleicp.py:331: RuntimeWarning: invalid value encountered in double_scalars\n",
      "  return np.abs((new - old) / old * 100)\n"
     ]
    },
    {
     "name": "stdout",
     "output_type": "stream",
     "text": [
      "       62 |              16 |          0.0000 |          0.0000\n",
      "       63 |              16 |          0.0000 |          0.0000\n"
     ]
    },
    {
     "name": "stderr",
     "output_type": "stream",
     "text": [
      "/home/harryting/anaconda3/envs/robothon/lib/python3.10/site-packages/simpleicp/simpleicp.py:331: RuntimeWarning: invalid value encountered in double_scalars\n",
      "  return np.abs((new - old) / old * 100)\n",
      "/home/harryting/anaconda3/envs/robothon/lib/python3.10/site-packages/simpleicp/simpleicp.py:331: RuntimeWarning: invalid value encountered in double_scalars\n",
      "  return np.abs((new - old) / old * 100)\n"
     ]
    },
    {
     "name": "stdout",
     "output_type": "stream",
     "text": [
      "       64 |              16 |          0.0000 |          0.0000\n",
      "       65 |              16 |          0.0000 |          0.0000\n"
     ]
    },
    {
     "name": "stderr",
     "output_type": "stream",
     "text": [
      "/home/harryting/anaconda3/envs/robothon/lib/python3.10/site-packages/simpleicp/simpleicp.py:331: RuntimeWarning: invalid value encountered in double_scalars\n",
      "  return np.abs((new - old) / old * 100)\n",
      "/home/harryting/anaconda3/envs/robothon/lib/python3.10/site-packages/simpleicp/simpleicp.py:331: RuntimeWarning: invalid value encountered in double_scalars\n",
      "  return np.abs((new - old) / old * 100)\n"
     ]
    },
    {
     "name": "stdout",
     "output_type": "stream",
     "text": [
      "       66 |              16 |          0.0000 |          0.0000\n",
      "       67 |              16 |          0.0000 |          0.0000\n"
     ]
    },
    {
     "name": "stderr",
     "output_type": "stream",
     "text": [
      "/home/harryting/anaconda3/envs/robothon/lib/python3.10/site-packages/simpleicp/simpleicp.py:331: RuntimeWarning: invalid value encountered in double_scalars\n",
      "  return np.abs((new - old) / old * 100)\n",
      "/home/harryting/anaconda3/envs/robothon/lib/python3.10/site-packages/simpleicp/simpleicp.py:331: RuntimeWarning: invalid value encountered in double_scalars\n",
      "  return np.abs((new - old) / old * 100)\n"
     ]
    },
    {
     "name": "stdout",
     "output_type": "stream",
     "text": [
      "       68 |              16 |          0.0000 |          0.0000\n",
      "       69 |              16 |          0.0000 |          0.0000\n"
     ]
    },
    {
     "name": "stderr",
     "output_type": "stream",
     "text": [
      "/home/harryting/anaconda3/envs/robothon/lib/python3.10/site-packages/simpleicp/simpleicp.py:331: RuntimeWarning: invalid value encountered in double_scalars\n",
      "  return np.abs((new - old) / old * 100)\n",
      "/home/harryting/anaconda3/envs/robothon/lib/python3.10/site-packages/simpleicp/simpleicp.py:331: RuntimeWarning: invalid value encountered in double_scalars\n",
      "  return np.abs((new - old) / old * 100)\n"
     ]
    },
    {
     "name": "stdout",
     "output_type": "stream",
     "text": [
      "       70 |              16 |          0.0000 |          0.0000\n",
      "       71 |              16 |          0.0000 |          0.0000\n"
     ]
    },
    {
     "name": "stderr",
     "output_type": "stream",
     "text": [
      "/home/harryting/anaconda3/envs/robothon/lib/python3.10/site-packages/simpleicp/simpleicp.py:331: RuntimeWarning: invalid value encountered in double_scalars\n",
      "  return np.abs((new - old) / old * 100)\n",
      "/home/harryting/anaconda3/envs/robothon/lib/python3.10/site-packages/simpleicp/simpleicp.py:331: RuntimeWarning: invalid value encountered in double_scalars\n",
      "  return np.abs((new - old) / old * 100)\n"
     ]
    },
    {
     "name": "stdout",
     "output_type": "stream",
     "text": [
      "       72 |              16 |          0.0000 |          0.0000\n",
      "       73 |              16 |          0.0000 |          0.0000\n"
     ]
    },
    {
     "name": "stderr",
     "output_type": "stream",
     "text": [
      "/home/harryting/anaconda3/envs/robothon/lib/python3.10/site-packages/simpleicp/simpleicp.py:331: RuntimeWarning: invalid value encountered in double_scalars\n",
      "  return np.abs((new - old) / old * 100)\n",
      "/home/harryting/anaconda3/envs/robothon/lib/python3.10/site-packages/simpleicp/simpleicp.py:331: RuntimeWarning: invalid value encountered in double_scalars\n",
      "  return np.abs((new - old) / old * 100)\n"
     ]
    },
    {
     "name": "stdout",
     "output_type": "stream",
     "text": [
      "       74 |              16 |          0.0000 |          0.0000\n",
      "       75 |              16 |          0.0000 |          0.0000\n"
     ]
    },
    {
     "name": "stderr",
     "output_type": "stream",
     "text": [
      "/home/harryting/anaconda3/envs/robothon/lib/python3.10/site-packages/simpleicp/simpleicp.py:331: RuntimeWarning: invalid value encountered in double_scalars\n",
      "  return np.abs((new - old) / old * 100)\n",
      "/home/harryting/anaconda3/envs/robothon/lib/python3.10/site-packages/simpleicp/simpleicp.py:331: RuntimeWarning: invalid value encountered in double_scalars\n",
      "  return np.abs((new - old) / old * 100)\n"
     ]
    },
    {
     "name": "stdout",
     "output_type": "stream",
     "text": [
      "       76 |              16 |          0.0000 |          0.0000\n",
      "       77 |              16 |          0.0000 |          0.0000\n"
     ]
    },
    {
     "name": "stderr",
     "output_type": "stream",
     "text": [
      "/home/harryting/anaconda3/envs/robothon/lib/python3.10/site-packages/simpleicp/simpleicp.py:331: RuntimeWarning: invalid value encountered in double_scalars\n",
      "  return np.abs((new - old) / old * 100)\n",
      "/home/harryting/anaconda3/envs/robothon/lib/python3.10/site-packages/simpleicp/simpleicp.py:331: RuntimeWarning: invalid value encountered in double_scalars\n",
      "  return np.abs((new - old) / old * 100)\n"
     ]
    },
    {
     "name": "stdout",
     "output_type": "stream",
     "text": [
      "       78 |              16 |          0.0000 |          0.0000\n",
      "       79 |              16 |          0.0000 |          0.0000\n"
     ]
    },
    {
     "name": "stderr",
     "output_type": "stream",
     "text": [
      "/home/harryting/anaconda3/envs/robothon/lib/python3.10/site-packages/simpleicp/simpleicp.py:331: RuntimeWarning: invalid value encountered in double_scalars\n",
      "  return np.abs((new - old) / old * 100)\n",
      "/home/harryting/anaconda3/envs/robothon/lib/python3.10/site-packages/simpleicp/simpleicp.py:331: RuntimeWarning: invalid value encountered in double_scalars\n",
      "  return np.abs((new - old) / old * 100)\n"
     ]
    },
    {
     "name": "stdout",
     "output_type": "stream",
     "text": [
      "       80 |              16 |          0.0000 |          0.0000\n",
      "       81 |              16 |          0.0000 |          0.0000\n"
     ]
    },
    {
     "name": "stderr",
     "output_type": "stream",
     "text": [
      "/home/harryting/anaconda3/envs/robothon/lib/python3.10/site-packages/simpleicp/simpleicp.py:331: RuntimeWarning: invalid value encountered in double_scalars\n",
      "  return np.abs((new - old) / old * 100)\n",
      "/home/harryting/anaconda3/envs/robothon/lib/python3.10/site-packages/simpleicp/simpleicp.py:331: RuntimeWarning: invalid value encountered in double_scalars\n",
      "  return np.abs((new - old) / old * 100)\n"
     ]
    },
    {
     "name": "stdout",
     "output_type": "stream",
     "text": [
      "       82 |              16 |          0.0000 |          0.0000\n",
      "       83 |              16 |          0.0000 |          0.0000\n"
     ]
    },
    {
     "name": "stderr",
     "output_type": "stream",
     "text": [
      "/home/harryting/anaconda3/envs/robothon/lib/python3.10/site-packages/simpleicp/simpleicp.py:331: RuntimeWarning: invalid value encountered in double_scalars\n",
      "  return np.abs((new - old) / old * 100)\n",
      "/home/harryting/anaconda3/envs/robothon/lib/python3.10/site-packages/simpleicp/simpleicp.py:331: RuntimeWarning: invalid value encountered in double_scalars\n",
      "  return np.abs((new - old) / old * 100)\n"
     ]
    },
    {
     "name": "stdout",
     "output_type": "stream",
     "text": [
      "       84 |              16 |          0.0000 |          0.0000\n",
      "       85 |              16 |          0.0000 |          0.0000\n"
     ]
    },
    {
     "name": "stderr",
     "output_type": "stream",
     "text": [
      "/home/harryting/anaconda3/envs/robothon/lib/python3.10/site-packages/simpleicp/simpleicp.py:331: RuntimeWarning: invalid value encountered in double_scalars\n",
      "  return np.abs((new - old) / old * 100)\n"
     ]
    },
    {
     "name": "stdout",
     "output_type": "stream",
     "text": [
      "       86 |              16 |          0.0000 |          0.0000\n"
     ]
    },
    {
     "name": "stderr",
     "output_type": "stream",
     "text": [
      "/home/harryting/anaconda3/envs/robothon/lib/python3.10/site-packages/simpleicp/simpleicp.py:331: RuntimeWarning: invalid value encountered in double_scalars\n",
      "  return np.abs((new - old) / old * 100)\n",
      "/home/harryting/anaconda3/envs/robothon/lib/python3.10/site-packages/simpleicp/simpleicp.py:331: RuntimeWarning: invalid value encountered in double_scalars\n",
      "  return np.abs((new - old) / old * 100)\n"
     ]
    },
    {
     "name": "stdout",
     "output_type": "stream",
     "text": [
      "       87 |              16 |          0.0000 |          0.0000\n",
      "       88 |              16 |          0.0000 |          0.0000\n"
     ]
    },
    {
     "name": "stderr",
     "output_type": "stream",
     "text": [
      "/home/harryting/anaconda3/envs/robothon/lib/python3.10/site-packages/simpleicp/simpleicp.py:331: RuntimeWarning: invalid value encountered in double_scalars\n",
      "  return np.abs((new - old) / old * 100)\n",
      "/home/harryting/anaconda3/envs/robothon/lib/python3.10/site-packages/simpleicp/simpleicp.py:331: RuntimeWarning: invalid value encountered in double_scalars\n",
      "  return np.abs((new - old) / old * 100)\n"
     ]
    },
    {
     "name": "stdout",
     "output_type": "stream",
     "text": [
      "       89 |              16 |          0.0000 |          0.0000\n",
      "       90 |              16 |          0.0000 |          0.0000\n"
     ]
    },
    {
     "name": "stderr",
     "output_type": "stream",
     "text": [
      "/home/harryting/anaconda3/envs/robothon/lib/python3.10/site-packages/simpleicp/simpleicp.py:331: RuntimeWarning: invalid value encountered in double_scalars\n",
      "  return np.abs((new - old) / old * 100)\n",
      "/home/harryting/anaconda3/envs/robothon/lib/python3.10/site-packages/simpleicp/simpleicp.py:331: RuntimeWarning: invalid value encountered in double_scalars\n",
      "  return np.abs((new - old) / old * 100)\n"
     ]
    },
    {
     "name": "stdout",
     "output_type": "stream",
     "text": [
      "       91 |              16 |          0.0000 |          0.0000\n",
      "       92 |              16 |          0.0000 |          0.0000\n"
     ]
    },
    {
     "name": "stderr",
     "output_type": "stream",
     "text": [
      "/home/harryting/anaconda3/envs/robothon/lib/python3.10/site-packages/simpleicp/simpleicp.py:331: RuntimeWarning: invalid value encountered in double_scalars\n",
      "  return np.abs((new - old) / old * 100)\n",
      "/home/harryting/anaconda3/envs/robothon/lib/python3.10/site-packages/simpleicp/simpleicp.py:331: RuntimeWarning: invalid value encountered in double_scalars\n",
      "  return np.abs((new - old) / old * 100)\n"
     ]
    },
    {
     "name": "stdout",
     "output_type": "stream",
     "text": [
      "       93 |              16 |          0.0000 |          0.0000\n",
      "       94 |              16 |          0.0000 |          0.0000\n"
     ]
    },
    {
     "name": "stderr",
     "output_type": "stream",
     "text": [
      "/home/harryting/anaconda3/envs/robothon/lib/python3.10/site-packages/simpleicp/simpleicp.py:331: RuntimeWarning: invalid value encountered in double_scalars\n",
      "  return np.abs((new - old) / old * 100)\n",
      "/home/harryting/anaconda3/envs/robothon/lib/python3.10/site-packages/simpleicp/simpleicp.py:331: RuntimeWarning: invalid value encountered in double_scalars\n",
      "  return np.abs((new - old) / old * 100)\n"
     ]
    },
    {
     "name": "stdout",
     "output_type": "stream",
     "text": [
      "       95 |              16 |          0.0000 |          0.0000\n",
      "       96 |              16 |          0.0000 |          0.0000\n"
     ]
    },
    {
     "name": "stderr",
     "output_type": "stream",
     "text": [
      "/home/harryting/anaconda3/envs/robothon/lib/python3.10/site-packages/simpleicp/simpleicp.py:331: RuntimeWarning: invalid value encountered in double_scalars\n",
      "  return np.abs((new - old) / old * 100)\n",
      "/home/harryting/anaconda3/envs/robothon/lib/python3.10/site-packages/simpleicp/simpleicp.py:331: RuntimeWarning: invalid value encountered in double_scalars\n",
      "  return np.abs((new - old) / old * 100)\n"
     ]
    },
    {
     "name": "stdout",
     "output_type": "stream",
     "text": [
      "       97 |              16 |          0.0000 |          0.0000\n",
      "       98 |              16 |          0.0000 |          0.0000\n",
      "       99 |              16 |          0.0000 |          0.0000\n",
      "      100 |              16 |          0.0000 |          0.0000\n",
      "Estimated transformation matrix H:\n",
      "[    1.000000    -0.000000     0.000000     0.000000]\n",
      "[    0.000000     1.000000    -0.000000     0.000000]\n",
      "[    0.000000     0.000000     1.000000     0.000000]\n",
      "[    0.000000     0.000000     0.000000     1.000000]\n",
      "... which corresponds to the following rigid-body transformation parameters:\n",
      "parameter |       est.value | est.uncertainty |       obs.value |      obs.weight\n",
      "   alpha1 |        0.000000 |             nan |        0.000000 |       0.000e+00\n",
      "   alpha2 |        0.000000 |             nan |        0.000000 |       0.000e+00\n",
      "   alpha3 |        0.000000 |             nan |        0.000000 |       0.000e+00\n",
      "       tx |        0.000000 |             nan |        0.000000 |       0.000e+00\n",
      "       ty |        0.000000 |             nan |        0.000000 |       0.000e+00\n",
      "       tz |        0.000000 |             nan |        0.000000 |       0.000e+00\n",
      "(Unit of est.value, est.uncertainty, and obs.value for alpha1/2/3 is degree)\n",
      "Finished in 14.785 seconds!\n"
     ]
    },
    {
     "name": "stderr",
     "output_type": "stream",
     "text": [
      "/home/harryting/anaconda3/envs/robothon/lib/python3.10/site-packages/simpleicp/simpleicp.py:331: RuntimeWarning: invalid value encountered in double_scalars\n",
      "  return np.abs((new - old) / old * 100)\n",
      "/home/harryting/anaconda3/envs/robothon/lib/python3.10/site-packages/simpleicp/simpleicp.py:331: RuntimeWarning: invalid value encountered in double_scalars\n",
      "  return np.abs((new - old) / old * 100)\n"
     ]
    },
    {
     "data": {
      "text/plain": [
       "array([[ 1., -0.,  0.,  0.],\n",
       "       [ 0.,  1., -0.,  0.],\n",
       "       [ 0.,  0.,  1.,  0.],\n",
       "       [ 0.,  0.,  0.,  1.]])"
      ]
     },
     "execution_count": 31,
     "metadata": {},
     "output_type": "execute_result"
    }
   ],
   "source": [
    "icp_coord(coords_3d_part, coords_3d)"
   ]
  },
  {
   "cell_type": "code",
   "execution_count": 10,
   "id": "190d9eef",
   "metadata": {},
   "outputs": [],
   "source": [
    "import cv2"
   ]
  },
  {
   "cell_type": "code",
   "execution_count": null,
   "id": "9d8bfc09",
   "metadata": {},
   "outputs": [],
   "source": []
  },
  {
   "cell_type": "code",
   "execution_count": 5,
   "id": "eef02c45",
   "metadata": {},
   "outputs": [
    {
     "data": {
      "text/plain": [
       "<matplotlib.collections.PathCollection at 0x7f61ae431540>"
      ]
     },
     "execution_count": 5,
     "metadata": {},
     "output_type": "execute_result"
    },
    {
     "data": {
      "image/png": "[encoded data removed]",
      "text/plain": [
       "<Figure size 700x700 with 1 Axes>"
      ]
     },
     "metadata": {},
     "output_type": "display_data"
    }
   ],
   "source": [
    "img = np.array(data[10]['segmentation']).astype('uint8')\n",
    "contours,hierarchy = cv2.findContours(img, 1,2)\n",
    "fig, ax = plt.subplots(figsize=(7, 7))\n",
    "con = np.array(contours)\n",
    "M = cv2.moments(contours[0])\n",
    "cx = int(M['m10']/M['m00'])\n",
    "cy = int(M['m01']/M['m00'])\n",
    "ax.imshow(img)    \n",
    "ax.scatter(cx, cy)\n"
   ]
  },
  {
   "cell_type": "code",
   "execution_count": 12,
   "id": "03ac367e",
   "metadata": {},
   "outputs": [
    {
     "data": {
      "text/plain": [
       "393"
      ]
     },
     "execution_count": 12,
     "metadata": {},
     "output_type": "execute_result"
    }
   ],
   "source": [
    "cx"
   ]
  },
  {
   "cell_type": "code",
   "execution_count": 13,
   "id": "dee27482",
   "metadata": {},
   "outputs": [
    {
     "data": {
      "text/plain": [
       "10"
      ]
     },
     "execution_count": 13,
     "metadata": {},
     "output_type": "execute_result"
    }
   ],
   "source": [
    "cy"
   ]
  },
  {
   "cell_type": "code",
   "execution_count": null,
   "id": "4cf2ee15",
   "metadata": {},
   "outputs": [],
   "source": []
  }
 ],
 "metadata": {
  "kernelspec": {
   "display_name": "Python 3 (ipykernel)",
   "language": "python",
   "name": "python3"
  },
  "language_info": {
   "codemirror_mode": {
    "name": "ipython",
    "version": 3
   },
   "file_extension": ".py",
   "mimetype": "text/x-python",
   "name": "python",
   "nbconvert_exporter": "python",
   "pygments_lexer": "ipython3",
   "version": "3.10.10"
  }
 },
 "nbformat": 4,
 "nbformat_minor": 5
}
